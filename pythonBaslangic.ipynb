{
  "nbformat": 4,
  "nbformat_minor": 0,
  "metadata": {
    "colab": {
      "provenance": []
    },
    "kernelspec": {
      "name": "python3",
      "display_name": "Python 3"
    },
    "language_info": {
      "name": "python"
    }
  },
  "cells": [
    {
      "cell_type": "code",
      "execution_count": 1,
      "metadata": {
        "colab": {
          "base_uri": "https://localhost:8080/",
          "height": 0
        },
        "id": "HawE3M9c1mBn",
        "outputId": "676c62a4-9690-428c-8de4-4d783f7d495c"
      },
      "outputs": [
        {
          "output_type": "stream",
          "name": "stdout",
          "text": [
            "10\n",
            "15\n"
          ]
        }
      ],
      "source": [
        "# bu benim ilk commentim degil (:\n",
        "# degisken - variable\n",
        "# integer(tamsayi) degisken - variable\n",
        "tamsayi_degiskeni = 10 # 10 tamsayisi için bir degisken tanımladım, bu degiskenin ismi tamsayi_degiskeni\n",
        "tamsayi_degiskeni2 = 15\n",
        "print(tamsayi_degiskeni)\n",
        "print(tamsayi_degiskeni2)\n"
      ]
    },
    {
      "cell_type": "markdown",
      "source": [
        "**Kesirli Sayi**"
      ],
      "metadata": {
        "id": "Oyr-FqZc4NhW"
      }
    },
    {
      "cell_type": "code",
      "source": [
        "# kesirli sayi - float\n",
        "kesirlisayi_degisken = 10.5\n",
        "print(kesirlisayi_degisken)\n"
      ],
      "metadata": {
        "colab": {
          "base_uri": "https://localhost:8080/",
          "height": 0
        },
        "id": "Ot32tSam4HxN",
        "outputId": "29a2b278-6310-4244-f0a6-919b66f8ba14"
      },
      "execution_count": 2,
      "outputs": [
        {
          "output_type": "stream",
          "name": "stdout",
          "text": [
            "10.5\n"
          ]
        }
      ]
    },
    {
      "cell_type": "markdown",
      "source": [
        "Dört İşlem Özelliği"
      ],
      "metadata": {
        "id": "iIq20_a6422X"
      }
    },
    {
      "cell_type": "code",
      "source": [
        "toplam = tamsayi_degiskeni + tamsayi_degiskeni2\n",
        "cikarma = tamsayi_degiskeni - tamsayi_degiskeni2\n",
        "carpma = tamsayi_degiskeni * tamsayi_degiskeni2\n",
        "bolme = tamsayi_degiskeni / tamsayi_degiskeni2\n",
        "print(toplam)\n",
        "print(cikarma)\n",
        "print(carpma)\n",
        "print(bolme)"
      ],
      "metadata": {
        "colab": {
          "base_uri": "https://localhost:8080/",
          "height": 0
        },
        "id": "9FynQAS74-qb",
        "outputId": "a9add346-b5e5-4243-e207-9938feba0937"
      },
      "execution_count": 3,
      "outputs": [
        {
          "output_type": "stream",
          "name": "stdout",
          "text": [
            "25\n",
            "-5\n",
            "150\n",
            "0.6666666666666666\n"
          ]
        }
      ]
    },
    {
      "cell_type": "code",
      "source": [
        "metin = \"Merhaba Dunya\" # string - metin\n",
        "print(metin)"
      ],
      "metadata": {
        "colab": {
          "base_uri": "https://localhost:8080/",
          "height": 0
        },
        "id": "aeOdBKLn50Gt",
        "outputId": "0065083d-e948-4201-d18a-f78400e5d787"
      },
      "execution_count": 4,
      "outputs": [
        {
          "output_type": "stream",
          "name": "stdout",
          "text": [
            "Merhaba Dunya\n"
          ]
        }
      ]
    },
    {
      "cell_type": "code",
      "source": [
        "type(metin)"
      ],
      "metadata": {
        "colab": {
          "base_uri": "https://localhost:8080/",
          "height": 0
        },
        "id": "_rwwxXhB6BLo",
        "outputId": "4ad0aa39-61ca-44d7-c157-93e7489fa7ab"
      },
      "execution_count": 5,
      "outputs": [
        {
          "output_type": "execute_result",
          "data": {
            "text/plain": [
              "str"
            ]
          },
          "metadata": {},
          "execution_count": 5
        }
      ]
    },
    {
      "cell_type": "code",
      "source": [
        "metin1 = \"Merhaba\"\n",
        "bosluk = \" \"\n",
        "metin2 = \"Dunya\"\n",
        "metin1 + bosluk + metin2"
      ],
      "metadata": {
        "colab": {
          "base_uri": "https://localhost:8080/",
          "height": 35
        },
        "id": "qt3Vq7h86Mhe",
        "outputId": "436d09c1-6b79-4176-bbef-8430d1bc9690"
      },
      "execution_count": 6,
      "outputs": [
        {
          "output_type": "execute_result",
          "data": {
            "text/plain": [
              "'Merhaba Dunya'"
            ],
            "application/vnd.google.colaboratory.intrinsic+json": {
              "type": "string"
            }
          },
          "metadata": {},
          "execution_count": 6
        }
      ]
    },
    {
      "cell_type": "code",
      "source": [
        "# f string\n",
        "# elma -> 10₺\n",
        "# armut -> 20₺\n",
        "elma_degisken = 10\n",
        "armut_degisken = 20\n",
        "print(f\"elma: {elma_degisken}₺, armut: {armut_degisken}₺\")\n",
        "print(\"elma: 10₺, armut: 20₺\")\n",
        "f\"{metin1} {bosluk} {metin2}\""
      ],
      "metadata": {
        "colab": {
          "base_uri": "https://localhost:8080/",
          "height": 70
        },
        "id": "r5swHZVi6ZW0",
        "outputId": "1e4ecee4-0037-440a-cff9-57b1a5a1e899"
      },
      "execution_count": 7,
      "outputs": [
        {
          "output_type": "stream",
          "name": "stdout",
          "text": [
            "elma: 10₺, armut: 20₺\n",
            "elma: 10₺, armut: 20₺\n"
          ]
        },
        {
          "output_type": "execute_result",
          "data": {
            "text/plain": [
              "'Merhaba   Dunya'"
            ],
            "application/vnd.google.colaboratory.intrinsic+json": {
              "type": "string"
            }
          },
          "metadata": {},
          "execution_count": 7
        }
      ]
    },
    {
      "cell_type": "markdown",
      "source": [
        "Python Syntax"
      ],
      "metadata": {
        "id": "ovgEhBi679Re"
      }
    },
    {
      "cell_type": "code",
      "source": [
        "temel = 6\n",
        "TEMEL = 7\n",
        "print(temel)\n",
        "print(TEMEL)"
      ],
      "metadata": {
        "colab": {
          "base_uri": "https://localhost:8080/",
          "height": 0
        },
        "id": "mEtQOUSW8BsL",
        "outputId": "df06dc46-0140-4d36-a76e-dbccc167e314"
      },
      "execution_count": 8,
      "outputs": [
        {
          "output_type": "stream",
          "name": "stdout",
          "text": [
            "6\n",
            "7\n"
          ]
        }
      ]
    },
    {
      "cell_type": "code",
      "source": [
        "# COMMENT\n",
        "\"\"\"\n",
        "Geniş paragraf açıklamalarınızı bu şekilde yapabilirsiniz.\n",
        "\"\"\""
      ],
      "metadata": {
        "colab": {
          "base_uri": "https://localhost:8080/",
          "height": 35
        },
        "id": "W5f87ON_84mb",
        "outputId": "66c6933a-cb7f-428b-bd29-3bf0c30d96cb"
      },
      "execution_count": 9,
      "outputs": [
        {
          "output_type": "execute_result",
          "data": {
            "text/plain": [
              "'\\nGeniş paragraf açıklamalarınızı bu şekilde yapabilirsiniz.\\n'"
            ],
            "application/vnd.google.colaboratory.intrinsic+json": {
              "type": "string"
            }
          },
          "metadata": {},
          "execution_count": 9
        }
      ]
    },
    {
      "cell_type": "code",
      "source": [
        "print(5)"
      ],
      "metadata": {
        "colab": {
          "base_uri": "https://localhost:8080/",
          "height": 0
        },
        "id": "d78jR76i9I9m",
        "outputId": "501231bf-c952-49c5-bcae-5bb63eecaf62"
      },
      "execution_count": 10,
      "outputs": [
        {
          "output_type": "stream",
          "name": "stdout",
          "text": [
            "5\n"
          ]
        }
      ]
    },
    {
      "cell_type": "code",
      "source": [
        "# print = 10"
      ],
      "metadata": {
        "id": "bbBpdQ249NyC"
      },
      "execution_count": 11,
      "outputs": []
    },
    {
      "cell_type": "code",
      "source": [
        "print(5)"
      ],
      "metadata": {
        "colab": {
          "base_uri": "https://localhost:8080/",
          "height": 0
        },
        "id": "7AwaMALh9Rfj",
        "outputId": "741a242b-d40e-4970-f90f-11b09735db7b"
      },
      "execution_count": 12,
      "outputs": [
        {
          "output_type": "stream",
          "name": "stdout",
          "text": [
            "5\n"
          ]
        }
      ]
    },
    {
      "cell_type": "markdown",
      "source": [
        "**Fonksiyonlar**"
      ],
      "metadata": {
        "id": "qLmEczbs93L4"
      }
    },
    {
      "cell_type": "markdown",
      "source": [
        "\n",
        "\n",
        "*   Kullanıcı Tanımlı Fonksiyonlar (User Defined Function)\n",
        "\n"
      ],
      "metadata": {
        "id": "VHGJ6y46-scE"
      }
    },
    {
      "cell_type": "code",
      "source": [
        "# dairenin alanını hesaplamak pi*r^2\n",
        "pi = 3.14\n",
        "daire_yaricapi = 3\n",
        "daire_alani = pi * (daire_yaricapi ** 2)\n",
        "print(daire_alani)\n"
      ],
      "metadata": {
        "colab": {
          "base_uri": "https://localhost:8080/",
          "height": 0
        },
        "id": "NkgjUhhR-gWj",
        "outputId": "139294dd-1cce-46cc-cc71-f5e6e94c5968"
      },
      "execution_count": 13,
      "outputs": [
        {
          "output_type": "stream",
          "name": "stdout",
          "text": [
            "28.26\n"
          ]
        }
      ]
    },
    {
      "cell_type": "code",
      "source": [
        "def daireAlaniHesapla(): # func ismi yazarken islevi belirtmek lazim\n",
        "  pi = 3.14\n",
        "  daire_yaricapi = 3\n",
        "  daire_alani = pi * (daire_yaricapi ** 2)\n",
        "  print(daire_alani)"
      ],
      "metadata": {
        "id": "zpcY_-ol_VMd"
      },
      "execution_count": 16,
      "outputs": []
    },
    {
      "cell_type": "code",
      "source": [
        "daireAlaniHesapla()"
      ],
      "metadata": {
        "colab": {
          "base_uri": "https://localhost:8080/",
          "height": 0
        },
        "id": "Mxfqr7Bn_nxs",
        "outputId": "d2166de2-d0b5-4aba-924b-aa2f22156e58"
      },
      "execution_count": 17,
      "outputs": [
        {
          "output_type": "stream",
          "name": "stdout",
          "text": [
            "Daire Alani Hesapla:\n"
          ]
        }
      ]
    },
    {
      "cell_type": "code",
      "source": [
        "def AdSoyad():\n",
        "  print(\"Atakan Erdoğan\")\n",
        "\n",
        "AdSoyad()"
      ],
      "metadata": {
        "colab": {
          "base_uri": "https://localhost:8080/",
          "height": 0
        },
        "id": "ET5pDevf_rvs",
        "outputId": "2ff7da76-400f-4126-9153-ea8b531736e9"
      },
      "execution_count": 20,
      "outputs": [
        {
          "output_type": "stream",
          "name": "stdout",
          "text": [
            "Atakan Erdoğan\n"
          ]
        }
      ]
    },
    {
      "cell_type": "code",
      "source": [
        "def daireAlaniHesapla(daire_yaricapi = 5): # func ismi yazarken islevi belirtmek lazim\n",
        "  \"\"\"\n",
        "    Defination: Bu fonksiyon dairenin alanini hesaplar.\n",
        "    input parameters: degisken yaricapi (daire_yaricapi)\n",
        "    output: dairenin alani (daire_alani)\n",
        "  \"\"\"\n",
        "  PI = 3.14 # değişmeyecek değişkenlerin adları büyük harflerle yazılır\n",
        "  daire_alani = PI * (daire_yaricapi ** 2)\n",
        "  print(f\"Daire alani: {daire_alani}\")\n",
        "  return daire_alani"
      ],
      "metadata": {
        "id": "OLcdvGKGFIo_"
      },
      "execution_count": 41,
      "outputs": []
    },
    {
      "cell_type": "code",
      "source": [
        "daireAlaniHesapla(3)"
      ],
      "metadata": {
        "colab": {
          "base_uri": "https://localhost:8080/",
          "height": 0
        },
        "id": "wTMOdhjvFeoo",
        "outputId": "3849020c-97c6-4356-b621-48289bfa50df"
      },
      "execution_count": 23,
      "outputs": [
        {
          "output_type": "stream",
          "name": "stdout",
          "text": [
            "Daire_alani: 28.26\n"
          ]
        }
      ]
    },
    {
      "cell_type": "code",
      "source": [
        "user_input = input(\"Lütfen bir daire yari capi giriniz: \")\n",
        "print(f\"girilen değer: {user_input} ve bu degerin tipi: {type(user_input)}\")\n",
        "user_input = int(user_input)\n",
        "print(f\"girilen değer: {user_input} ve bu degerin tipi: {type(user_input)}\")\n",
        "daireAlaniHesapla(user_input)"
      ],
      "metadata": {
        "colab": {
          "base_uri": "https://localhost:8080/",
          "height": 0
        },
        "id": "gHJdA55SG9uZ",
        "outputId": "1ba3b690-6d4d-410a-c452-331074563aba"
      },
      "execution_count": 28,
      "outputs": [
        {
          "output_type": "stream",
          "name": "stdout",
          "text": [
            "Lütfen bir daire yari capi giriniz: 10\n",
            "girilen değer: 10 ve bu degerin tipi: <class 'str'>\n",
            "girilen değer: 10 ve bu degerin tipi: <class 'int'>\n",
            "Daire alani: 314.0\n"
          ]
        }
      ]
    },
    {
      "cell_type": "code",
      "source": [
        "daire_alani_hesaplanan1 = daireAlaniHesapla(5)\n",
        "daire_alani_hesaplanan2 = daireAlaniHesapla(3)\n",
        "print(daire_alani_hesaplanan1 + daire_alani_hesaplanan2)"
      ],
      "metadata": {
        "colab": {
          "base_uri": "https://localhost:8080/",
          "height": 0
        },
        "id": "KnP1Uo3VIcjZ",
        "outputId": "42541473-2121-4439-d528-68a0e3036c23"
      },
      "execution_count": 40,
      "outputs": [
        {
          "output_type": "stream",
          "name": "stdout",
          "text": [
            "Daire alani: 78.5\n",
            "Daire alani: 28.26\n",
            "106.76\n"
          ]
        }
      ]
    },
    {
      "cell_type": "code",
      "source": [
        "# daire cevresi hesaplama: 2*pi*r\n",
        "\n",
        "def daireCevresiHesapla(r):\n",
        "  PI = 3.14\n",
        "  daireCevre = 2 * PI * r\n",
        "  print(f\"Daire cevresi: {daireCevre}\")\n",
        "  return daireCevre"
      ],
      "metadata": {
        "id": "tu9oPsEMI3yI"
      },
      "execution_count": 49,
      "outputs": []
    },
    {
      "cell_type": "code",
      "source": [
        "daireCevresiHesapla(2)"
      ],
      "metadata": {
        "colab": {
          "base_uri": "https://localhost:8080/"
        },
        "id": "6QxPHgDuMzI6",
        "outputId": "1896699d-eb76-478c-92c6-aff155f7fd18"
      },
      "execution_count": 50,
      "outputs": [
        {
          "output_type": "stream",
          "name": "stdout",
          "text": [
            "Daire cevresi: 12.56\n"
          ]
        },
        {
          "output_type": "execute_result",
          "data": {
            "text/plain": [
              "12.56"
            ]
          },
          "metadata": {},
          "execution_count": 50
        }
      ]
    },
    {
      "cell_type": "code",
      "source": [
        "user_input = input(\"Lütfen bir daire çevresini giriniz: \")\n",
        "print(f\"girilen değer: {user_input} ve bu degerin tipi: {type(user_input)}\")\n",
        "user_input = int(user_input)\n",
        "daireCevresiHesapla(user_input)"
      ],
      "metadata": {
        "id": "BMdBIo6WKgj5"
      },
      "execution_count": 42,
      "outputs": []
    }
  ]
}