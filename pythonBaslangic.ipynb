{
  "nbformat": 4,
  "nbformat_minor": 0,
  "metadata": {
    "colab": {
      "provenance": []
    },
    "kernelspec": {
      "name": "python3",
      "display_name": "Python 3"
    },
    "language_info": {
      "name": "python"
    }
  },
  "cells": [
    {
      "cell_type": "code",
      "execution_count": null,
      "metadata": {
        "colab": {
          "base_uri": "https://localhost:8080/"
        },
        "id": "HawE3M9c1mBn",
        "outputId": "676c62a4-9690-428c-8de4-4d783f7d495c"
      },
      "outputs": [
        {
          "output_type": "stream",
          "name": "stdout",
          "text": [
            "10\n",
            "15\n"
          ]
        }
      ],
      "source": [
        "# bu benim ilk commentim degil (:\n",
        "# degisken - variable\n",
        "# integer(tamsayi) degisken - variable\n",
        "tamsayi_degiskeni = 10 # 10 tamsayisi için bir degisken tanımladım, bu degiskenin ismi tamsayi_degiskeni\n",
        "tamsayi_degiskeni2 = 15\n",
        "print(tamsayi_degiskeni)\n",
        "print(tamsayi_degiskeni2)\n"
      ]
    },
    {
      "cell_type": "markdown",
      "source": [
        "**Kesirli Sayi**"
      ],
      "metadata": {
        "id": "Oyr-FqZc4NhW"
      }
    },
    {
      "cell_type": "code",
      "source": [
        "# kesirli sayi - float\n",
        "kesirlisayi_degisken = 10.5\n",
        "print(kesirlisayi_degisken)\n"
      ],
      "metadata": {
        "colab": {
          "base_uri": "https://localhost:8080/"
        },
        "id": "Ot32tSam4HxN",
        "outputId": "29a2b278-6310-4244-f0a6-919b66f8ba14"
      },
      "execution_count": null,
      "outputs": [
        {
          "output_type": "stream",
          "name": "stdout",
          "text": [
            "10.5\n"
          ]
        }
      ]
    },
    {
      "cell_type": "markdown",
      "source": [
        "Dört İşlem Özelliği"
      ],
      "metadata": {
        "id": "iIq20_a6422X"
      }
    },
    {
      "cell_type": "code",
      "source": [
        "toplam = tamsayi_degiskeni + tamsayi_degiskeni2\n",
        "cikarma = tamsayi_degiskeni - tamsayi_degiskeni2\n",
        "carpma = tamsayi_degiskeni * tamsayi_degiskeni2\n",
        "bolme = tamsayi_degiskeni / tamsayi_degiskeni2\n",
        "print(toplam)\n",
        "print(cikarma)\n",
        "print(carpma)\n",
        "print(bolme)"
      ],
      "metadata": {
        "colab": {
          "base_uri": "https://localhost:8080/"
        },
        "id": "9FynQAS74-qb",
        "outputId": "a9add346-b5e5-4243-e207-9938feba0937"
      },
      "execution_count": null,
      "outputs": [
        {
          "output_type": "stream",
          "name": "stdout",
          "text": [
            "25\n",
            "-5\n",
            "150\n",
            "0.6666666666666666\n"
          ]
        }
      ]
    },
    {
      "cell_type": "code",
      "source": [
        "metin = \"Merhaba Dunya\" # string - metin\n",
        "print(metin)"
      ],
      "metadata": {
        "colab": {
          "base_uri": "https://localhost:8080/"
        },
        "id": "aeOdBKLn50Gt",
        "outputId": "0065083d-e948-4201-d18a-f78400e5d787"
      },
      "execution_count": null,
      "outputs": [
        {
          "output_type": "stream",
          "name": "stdout",
          "text": [
            "Merhaba Dunya\n"
          ]
        }
      ]
    },
    {
      "cell_type": "code",
      "source": [
        "type(metin)"
      ],
      "metadata": {
        "colab": {
          "base_uri": "https://localhost:8080/"
        },
        "id": "_rwwxXhB6BLo",
        "outputId": "4ad0aa39-61ca-44d7-c157-93e7489fa7ab"
      },
      "execution_count": null,
      "outputs": [
        {
          "output_type": "execute_result",
          "data": {
            "text/plain": [
              "str"
            ]
          },
          "metadata": {},
          "execution_count": 5
        }
      ]
    },
    {
      "cell_type": "code",
      "source": [
        "metin1 = \"Merhaba\"\n",
        "bosluk = \" \"\n",
        "metin2 = \"Dunya\"\n",
        "metin1 + bosluk + metin2"
      ],
      "metadata": {
        "colab": {
          "base_uri": "https://localhost:8080/",
          "height": 35
        },
        "id": "qt3Vq7h86Mhe",
        "outputId": "436d09c1-6b79-4176-bbef-8430d1bc9690"
      },
      "execution_count": null,
      "outputs": [
        {
          "output_type": "execute_result",
          "data": {
            "text/plain": [
              "'Merhaba Dunya'"
            ],
            "application/vnd.google.colaboratory.intrinsic+json": {
              "type": "string"
            }
          },
          "metadata": {},
          "execution_count": 6
        }
      ]
    },
    {
      "cell_type": "code",
      "source": [
        "# f string\n",
        "# elma -> 10₺\n",
        "# armut -> 20₺\n",
        "elma_degisken = 10\n",
        "armut_degisken = 20\n",
        "print(f\"elma: {elma_degisken}₺, armut: {armut_degisken}₺\")\n",
        "print(\"elma: 10₺, armut: 20₺\")\n",
        "f\"{metin1} {bosluk} {metin2}\""
      ],
      "metadata": {
        "colab": {
          "base_uri": "https://localhost:8080/",
          "height": 70
        },
        "id": "r5swHZVi6ZW0",
        "outputId": "1e4ecee4-0037-440a-cff9-57b1a5a1e899"
      },
      "execution_count": null,
      "outputs": [
        {
          "output_type": "stream",
          "name": "stdout",
          "text": [
            "elma: 10₺, armut: 20₺\n",
            "elma: 10₺, armut: 20₺\n"
          ]
        },
        {
          "output_type": "execute_result",
          "data": {
            "text/plain": [
              "'Merhaba   Dunya'"
            ],
            "application/vnd.google.colaboratory.intrinsic+json": {
              "type": "string"
            }
          },
          "metadata": {},
          "execution_count": 7
        }
      ]
    },
    {
      "cell_type": "markdown",
      "source": [
        "Python Syntax"
      ],
      "metadata": {
        "id": "ovgEhBi679Re"
      }
    },
    {
      "cell_type": "code",
      "source": [
        "temel = 6\n",
        "TEMEL = 7\n",
        "print(temel)\n",
        "print(TEMEL)"
      ],
      "metadata": {
        "colab": {
          "base_uri": "https://localhost:8080/"
        },
        "id": "mEtQOUSW8BsL",
        "outputId": "df06dc46-0140-4d36-a76e-dbccc167e314"
      },
      "execution_count": null,
      "outputs": [
        {
          "output_type": "stream",
          "name": "stdout",
          "text": [
            "6\n",
            "7\n"
          ]
        }
      ]
    },
    {
      "cell_type": "code",
      "source": [
        "# COMMENT\n",
        "\"\"\"\n",
        "Geniş paragraf açıklamalarınızı bu şekilde yapabilirsiniz.\n",
        "\"\"\""
      ],
      "metadata": {
        "colab": {
          "base_uri": "https://localhost:8080/",
          "height": 35
        },
        "id": "W5f87ON_84mb",
        "outputId": "66c6933a-cb7f-428b-bd29-3bf0c30d96cb"
      },
      "execution_count": null,
      "outputs": [
        {
          "output_type": "execute_result",
          "data": {
            "text/plain": [
              "'\\nGeniş paragraf açıklamalarınızı bu şekilde yapabilirsiniz.\\n'"
            ],
            "application/vnd.google.colaboratory.intrinsic+json": {
              "type": "string"
            }
          },
          "metadata": {},
          "execution_count": 9
        }
      ]
    },
    {
      "cell_type": "code",
      "source": [
        "print(5)"
      ],
      "metadata": {
        "colab": {
          "base_uri": "https://localhost:8080/"
        },
        "id": "d78jR76i9I9m",
        "outputId": "501231bf-c952-49c5-bcae-5bb63eecaf62"
      },
      "execution_count": null,
      "outputs": [
        {
          "output_type": "stream",
          "name": "stdout",
          "text": [
            "5\n"
          ]
        }
      ]
    },
    {
      "cell_type": "code",
      "source": [
        "# print = 10"
      ],
      "metadata": {
        "id": "bbBpdQ249NyC"
      },
      "execution_count": null,
      "outputs": []
    },
    {
      "cell_type": "code",
      "source": [
        "print(5)"
      ],
      "metadata": {
        "colab": {
          "base_uri": "https://localhost:8080/"
        },
        "id": "7AwaMALh9Rfj",
        "outputId": "741a242b-d40e-4970-f90f-11b09735db7b"
      },
      "execution_count": null,
      "outputs": [
        {
          "output_type": "stream",
          "name": "stdout",
          "text": [
            "5\n"
          ]
        }
      ]
    },
    {
      "cell_type": "markdown",
      "source": [
        "**Fonksiyonlar**"
      ],
      "metadata": {
        "id": "qLmEczbs93L4"
      }
    },
    {
      "cell_type": "markdown",
      "source": [
        "\n",
        "\n",
        "*   Kullanıcı Tanımlı Fonksiyonlar (User Defined Function)\n",
        "\n"
      ],
      "metadata": {
        "id": "VHGJ6y46-scE"
      }
    },
    {
      "cell_type": "code",
      "source": [
        "# dairenin alanını hesaplamak pi*r^2\n",
        "pi = 3.14\n",
        "daire_yaricapi = 3\n",
        "daire_alani = pi * (daire_yaricapi ** 2)\n",
        "print(daire_alani)\n"
      ],
      "metadata": {
        "colab": {
          "base_uri": "https://localhost:8080/"
        },
        "id": "NkgjUhhR-gWj",
        "outputId": "139294dd-1cce-46cc-cc71-f5e6e94c5968"
      },
      "execution_count": null,
      "outputs": [
        {
          "output_type": "stream",
          "name": "stdout",
          "text": [
            "28.26\n"
          ]
        }
      ]
    },
    {
      "cell_type": "code",
      "source": [
        "def daireAlaniHesapla(): # func ismi yazarken islevi belirtmek lazim\n",
        "  pi = 3.14\n",
        "  daire_yaricapi = 3\n",
        "  daire_alani = pi * (daire_yaricapi ** 2)\n",
        "  print(daire_alani)"
      ],
      "metadata": {
        "id": "zpcY_-ol_VMd"
      },
      "execution_count": null,
      "outputs": []
    },
    {
      "cell_type": "code",
      "source": [
        "daireAlaniHesapla()"
      ],
      "metadata": {
        "colab": {
          "base_uri": "https://localhost:8080/"
        },
        "id": "Mxfqr7Bn_nxs",
        "outputId": "d2166de2-d0b5-4aba-924b-aa2f22156e58"
      },
      "execution_count": null,
      "outputs": [
        {
          "output_type": "stream",
          "name": "stdout",
          "text": [
            "Daire Alani Hesapla:\n"
          ]
        }
      ]
    },
    {
      "cell_type": "code",
      "source": [
        "def AdSoyad():\n",
        "  print(\"Atakan Erdoğan\")\n",
        "\n",
        "AdSoyad()"
      ],
      "metadata": {
        "colab": {
          "base_uri": "https://localhost:8080/"
        },
        "id": "ET5pDevf_rvs",
        "outputId": "2ff7da76-400f-4126-9153-ea8b531736e9"
      },
      "execution_count": null,
      "outputs": [
        {
          "output_type": "stream",
          "name": "stdout",
          "text": [
            "Atakan Erdoğan\n"
          ]
        }
      ]
    },
    {
      "cell_type": "code",
      "source": [
        "def daireAlaniHesapla(daire_yaricapi = 5): # func ismi yazarken islevi belirtmek lazim\n",
        "  \"\"\"\n",
        "    Defination: Bu fonksiyon dairenin alanini hesaplar.\n",
        "    input parameters: degisken yaricapi (daire_yaricapi)\n",
        "    output: dairenin alani (daire_alani)\n",
        "  \"\"\"\n",
        "  PI = 3.14 # değişmeyecek değişkenlerin adları büyük harflerle yazılır\n",
        "  daire_alani = PI * (daire_yaricapi ** 2)\n",
        "  print(f\"Daire alani: {daire_alani}\")\n",
        "  return daire_alani"
      ],
      "metadata": {
        "id": "OLcdvGKGFIo_"
      },
      "execution_count": null,
      "outputs": []
    },
    {
      "cell_type": "code",
      "source": [
        "daireAlaniHesapla(3)"
      ],
      "metadata": {
        "colab": {
          "base_uri": "https://localhost:8080/"
        },
        "id": "wTMOdhjvFeoo",
        "outputId": "3849020c-97c6-4356-b621-48289bfa50df"
      },
      "execution_count": null,
      "outputs": [
        {
          "output_type": "stream",
          "name": "stdout",
          "text": [
            "Daire_alani: 28.26\n"
          ]
        }
      ]
    },
    {
      "cell_type": "code",
      "source": [
        "user_input = input(\"Lütfen bir daire yari capi giriniz: \")\n",
        "print(f\"girilen değer: {user_input} ve bu degerin tipi: {type(user_input)}\")\n",
        "user_input = int(user_input)\n",
        "print(f\"girilen değer: {user_input} ve bu degerin tipi: {type(user_input)}\")\n",
        "daireAlaniHesapla(user_input)"
      ],
      "metadata": {
        "colab": {
          "base_uri": "https://localhost:8080/"
        },
        "id": "gHJdA55SG9uZ",
        "outputId": "1ba3b690-6d4d-410a-c452-331074563aba"
      },
      "execution_count": null,
      "outputs": [
        {
          "output_type": "stream",
          "name": "stdout",
          "text": [
            "Lütfen bir daire yari capi giriniz: 10\n",
            "girilen değer: 10 ve bu degerin tipi: <class 'str'>\n",
            "girilen değer: 10 ve bu degerin tipi: <class 'int'>\n",
            "Daire alani: 314.0\n"
          ]
        }
      ]
    },
    {
      "cell_type": "code",
      "source": [
        "daire_alani_hesaplanan1 = daireAlaniHesapla(5)\n",
        "daire_alani_hesaplanan2 = daireAlaniHesapla(3)\n",
        "print(daire_alani_hesaplanan1 + daire_alani_hesaplanan2)"
      ],
      "metadata": {
        "colab": {
          "base_uri": "https://localhost:8080/"
        },
        "id": "KnP1Uo3VIcjZ",
        "outputId": "42541473-2121-4439-d528-68a0e3036c23"
      },
      "execution_count": null,
      "outputs": [
        {
          "output_type": "stream",
          "name": "stdout",
          "text": [
            "Daire alani: 78.5\n",
            "Daire alani: 28.26\n",
            "106.76\n"
          ]
        }
      ]
    },
    {
      "cell_type": "code",
      "source": [
        "# daire cevresi hesaplama: 2*pi*r\n",
        "\n",
        "def daireCevresiHesapla(r):\n",
        "  PI = 3.14\n",
        "  daireCevre = 2 * PI * r\n",
        "  print(f\"Daire cevresi: {daireCevre}\")\n",
        "  return daireCevre"
      ],
      "metadata": {
        "id": "tu9oPsEMI3yI"
      },
      "execution_count": null,
      "outputs": []
    },
    {
      "cell_type": "code",
      "source": [
        "daireCevresiHesapla(2)"
      ],
      "metadata": {
        "id": "6QxPHgDuMzI6",
        "outputId": "1896699d-eb76-478c-92c6-aff155f7fd18",
        "colab": {
          "base_uri": "https://localhost:8080/"
        }
      },
      "execution_count": null,
      "outputs": [
        {
          "output_type": "stream",
          "name": "stdout",
          "text": [
            "Daire cevresi: 12.56\n"
          ]
        },
        {
          "output_type": "execute_result",
          "data": {
            "text/plain": [
              "12.56"
            ]
          },
          "metadata": {},
          "execution_count": 50
        }
      ]
    },
    {
      "cell_type": "code",
      "source": [
        "user_input = input(\"Lütfen bir daire çevresini giriniz: \")\n",
        "print(f\"girilen değer: {user_input} ve bu degerin tipi: {type(user_input)}\")\n",
        "user_input = int(user_input)\n",
        "daireCevresiHesapla(user_input)"
      ],
      "metadata": {
        "id": "BMdBIo6WKgj5"
      },
      "execution_count": null,
      "outputs": []
    },
    {
      "cell_type": "markdown",
      "source": [
        "14.12.2024\n",
        "\n",
        "Veri Tipleri: Liste"
      ],
      "metadata": {
        "id": "GBYlk8qk_yWV"
      }
    },
    {
      "cell_type": "code",
      "source": [
        "liste = [\"süt\", \"yumurta\", \"ekmek\"]\n",
        "liste"
      ],
      "metadata": {
        "colab": {
          "base_uri": "https://localhost:8080/"
        },
        "id": "xewb5i6__3Em",
        "outputId": "2b0157af-2019-4a40-b70e-ced9a9b479e0"
      },
      "execution_count": 2,
      "outputs": [
        {
          "output_type": "execute_result",
          "data": {
            "text/plain": [
              "['süt', 'yumurta', 'ekmek']"
            ]
          },
          "metadata": {},
          "execution_count": 2
        }
      ]
    },
    {
      "cell_type": "code",
      "source": [
        "liste_fiyat = [10, 20, 30]\n",
        "print(liste_fiyat)"
      ],
      "metadata": {
        "colab": {
          "base_uri": "https://localhost:8080/"
        },
        "id": "LvOWxHIjAFp_",
        "outputId": "dc7548c8-ba9c-4a54-dfe4-5f7a7f46db17"
      },
      "execution_count": 4,
      "outputs": [
        {
          "output_type": "stream",
          "name": "stdout",
          "text": [
            "[10, 20, 30]\n"
          ]
        }
      ]
    },
    {
      "cell_type": "code",
      "source": [
        "type(liste_fiyat)"
      ],
      "metadata": {
        "colab": {
          "base_uri": "https://localhost:8080/"
        },
        "id": "4MK5wX1KALeW",
        "outputId": "c9c71a6e-b899-4d69-c572-faed33dad838"
      },
      "execution_count": 6,
      "outputs": [
        {
          "output_type": "execute_result",
          "data": {
            "text/plain": [
              "list"
            ]
          },
          "metadata": {},
          "execution_count": 6
        }
      ]
    },
    {
      "cell_type": "code",
      "source": [
        "hafta_liste = [\"pazartesi\", \"sali\", \"carsamba\", \"persembe\", \"cuma\", \"cumartesi\", \"pazar\"]\n",
        "print(hafta_liste)"
      ],
      "metadata": {
        "colab": {
          "base_uri": "https://localhost:8080/"
        },
        "id": "LQ9slFq_AY2W",
        "outputId": "1496b052-1153-4979-87d2-6ab15020fc7f"
      },
      "execution_count": 8,
      "outputs": [
        {
          "output_type": "stream",
          "name": "stdout",
          "text": [
            "['pazartesi', 'sali', 'carsamba', 'persembe', 'cuma', 'cumartesi', 'pazar']\n"
          ]
        }
      ]
    },
    {
      "cell_type": "code",
      "source": [
        "# İndeksleme\n",
        "hafta_liste[0] # 0. indeksteki eleman"
      ],
      "metadata": {
        "colab": {
          "base_uri": "https://localhost:8080/",
          "height": 35
        },
        "id": "Ww8jxcMqAbZW",
        "outputId": "6bea69e6-6d59-4a37-c0a6-c533dc2c9ce7"
      },
      "execution_count": 9,
      "outputs": [
        {
          "output_type": "execute_result",
          "data": {
            "text/plain": [
              "'pazartesi'"
            ],
            "application/vnd.google.colaboratory.intrinsic+json": {
              "type": "string"
            }
          },
          "metadata": {},
          "execution_count": 9
        }
      ]
    },
    {
      "cell_type": "code",
      "source": [
        "len(hafta_liste) # listedeki eleman sayısı"
      ],
      "metadata": {
        "colab": {
          "base_uri": "https://localhost:8080/"
        },
        "id": "f9gyO_PLBTAx",
        "outputId": "7b9389e4-9508-4879-ebc2-2f7bbdf5d202"
      },
      "execution_count": 11,
      "outputs": [
        {
          "output_type": "execute_result",
          "data": {
            "text/plain": [
              "7"
            ]
          },
          "metadata": {},
          "execution_count": 11
        }
      ]
    },
    {
      "cell_type": "code",
      "source": [
        "# İndeksleme\n",
        "hafta_liste[3] # 3. indeksteki eleman"
      ],
      "metadata": {
        "colab": {
          "base_uri": "https://localhost:8080/",
          "height": 35
        },
        "id": "Gc8L9JK7A4fW",
        "outputId": "90352ed5-6974-46f2-92e8-5d3cd28c0632"
      },
      "execution_count": 10,
      "outputs": [
        {
          "output_type": "execute_result",
          "data": {
            "text/plain": [
              "'persembe'"
            ],
            "application/vnd.google.colaboratory.intrinsic+json": {
              "type": "string"
            }
          },
          "metadata": {},
          "execution_count": 10
        }
      ]
    },
    {
      "cell_type": "code",
      "source": [
        "# İndeksleme\n",
        "hafta_liste[len(hafta_liste)-1] # 3. indeksteki eleman"
      ],
      "metadata": {
        "colab": {
          "base_uri": "https://localhost:8080/",
          "height": 35
        },
        "id": "KOuIqr8XBsz1",
        "outputId": "d3960bdb-f271-443a-8e0c-fe70ddee569e"
      },
      "execution_count": 13,
      "outputs": [
        {
          "output_type": "execute_result",
          "data": {
            "text/plain": [
              "'pazar'"
            ],
            "application/vnd.google.colaboratory.intrinsic+json": {
              "type": "string"
            }
          },
          "metadata": {},
          "execution_count": 13
        }
      ]
    },
    {
      "cell_type": "code",
      "source": [
        "hafta_liste[-1] # son eleman"
      ],
      "metadata": {
        "colab": {
          "base_uri": "https://localhost:8080/",
          "height": 35
        },
        "id": "MCbd4f4NBxxG",
        "outputId": "e87f1a00-7819-47d3-fd43-093fad220f9a"
      },
      "execution_count": 14,
      "outputs": [
        {
          "output_type": "execute_result",
          "data": {
            "text/plain": [
              "'pazar'"
            ],
            "application/vnd.google.colaboratory.intrinsic+json": {
              "type": "string"
            }
          },
          "metadata": {},
          "execution_count": 14
        }
      ]
    },
    {
      "cell_type": "code",
      "source": [
        "hafta_liste = [\"pazartesi\", \"sali\", \"carsamba\", \"persembe\", \"cuma\", \"cumartesi\", \"pazar\"]\n",
        "# \"pazartesi\", \"sali\", \"carsamba\", \"persembe\"\n",
        "hafta_liste[0:4]"
      ],
      "metadata": {
        "colab": {
          "base_uri": "https://localhost:8080/"
        },
        "id": "Sep9xtMHB44Z",
        "outputId": "012862d2-59eb-40c6-f172-e690521d91fe"
      },
      "execution_count": 15,
      "outputs": [
        {
          "output_type": "execute_result",
          "data": {
            "text/plain": [
              "['pazartesi', 'sali', 'carsamba', 'persembe']"
            ]
          },
          "metadata": {},
          "execution_count": 15
        }
      ]
    },
    {
      "cell_type": "code",
      "source": [
        "# \"persembe\", \"cuma\", \"cumartesi\", \"pazar\"\n",
        "print(hafta_liste[3:])\n",
        "print(hafta_liste[3:8])\n",
        "print(hafta_liste[-4:])\n"
      ],
      "metadata": {
        "colab": {
          "base_uri": "https://localhost:8080/"
        },
        "id": "HfCXAmMzDDkG",
        "outputId": "50fd671c-c0bc-4449-9ffc-24861aedd626"
      },
      "execution_count": 16,
      "outputs": [
        {
          "output_type": "stream",
          "name": "stdout",
          "text": [
            "['persembe', 'cuma', 'cumartesi', 'pazar']\n",
            "['persembe', 'cuma', 'cumartesi', 'pazar']\n",
            "['persembe', 'cuma', 'cumartesi', 'pazar']\n"
          ]
        }
      ]
    },
    {
      "cell_type": "code",
      "source": [
        "sayi_listesi = [1,3,2,4,6,5]\n",
        "sayi_listesi"
      ],
      "metadata": {
        "colab": {
          "base_uri": "https://localhost:8080/"
        },
        "id": "mQEColPvERFO",
        "outputId": "ac172b52-a2c3-49d6-a1a1-475a81613588"
      },
      "execution_count": 17,
      "outputs": [
        {
          "output_type": "execute_result",
          "data": {
            "text/plain": [
              "[1, 3, 2, 4, 6, 5]"
            ]
          },
          "metadata": {},
          "execution_count": 17
        }
      ]
    },
    {
      "cell_type": "code",
      "source": [
        "sayi_listesi.append(7) # listenin sonuna eleman ekler\n",
        "sayi_listesi"
      ],
      "metadata": {
        "colab": {
          "base_uri": "https://localhost:8080/"
        },
        "id": "2a9ksUPrEjO_",
        "outputId": "b1d74420-cb4f-4e0c-c612-33bf96db37b6"
      },
      "execution_count": 19,
      "outputs": [
        {
          "output_type": "execute_result",
          "data": {
            "text/plain": [
              "[1, 3, 2, 4, 6, 5, 7, 7]"
            ]
          },
          "metadata": {},
          "execution_count": 19
        }
      ]
    },
    {
      "cell_type": "code",
      "source": [
        "sayi_listesi.remove(4) # listenin eleman siler\n",
        "sayi_listesi"
      ],
      "metadata": {
        "colab": {
          "base_uri": "https://localhost:8080/"
        },
        "id": "ru7urB10Eoj3",
        "outputId": "bed6f7e2-5f46-4c52-f85b-ad677da7cc1b"
      },
      "execution_count": 27,
      "outputs": [
        {
          "output_type": "execute_result",
          "data": {
            "text/plain": [
              "[1, 3, 2, 7, 7]"
            ]
          },
          "metadata": {},
          "execution_count": 27
        }
      ]
    },
    {
      "cell_type": "code",
      "source": [
        "sayi_listesi.reverse() # listenin ters çevir\n",
        "sayi_listesi"
      ],
      "metadata": {
        "colab": {
          "base_uri": "https://localhost:8080/"
        },
        "id": "pqnjCXJcE4Yn",
        "outputId": "cea18893-0b9f-4530-8aa2-22494784a442"
      },
      "execution_count": 29,
      "outputs": [
        {
          "output_type": "execute_result",
          "data": {
            "text/plain": [
              "[7, 7, 2, 3, 1]"
            ]
          },
          "metadata": {},
          "execution_count": 29
        }
      ]
    },
    {
      "cell_type": "code",
      "source": [
        "sayi_listesi.sort() # listenin küçükten büyüğe sıralanması\n",
        "sayi_listesi"
      ],
      "metadata": {
        "colab": {
          "base_uri": "https://localhost:8080/"
        },
        "id": "3Pgxt_FqFRLn",
        "outputId": "f2ca3c28-cede-4de4-b2e8-dd3319604c95"
      },
      "execution_count": 30,
      "outputs": [
        {
          "output_type": "execute_result",
          "data": {
            "text/plain": [
              "[1, 2, 3, 7, 7]"
            ]
          },
          "metadata": {},
          "execution_count": 30
        }
      ]
    },
    {
      "cell_type": "code",
      "source": [
        "liste_deneme = [1,3,2,4,6,5]\n",
        "liste_deneme_sorted = sorted(liste_deneme) # listenin büyükten küçüğe sıralanması\n",
        "print(liste_deneme)\n",
        "print(liste_deneme_sorted)"
      ],
      "metadata": {
        "colab": {
          "base_uri": "https://localhost:8080/"
        },
        "id": "7ZoYAJyyGfJz",
        "outputId": "91bc64c4-ad69-471c-f182-4248750bf326"
      },
      "execution_count": 39,
      "outputs": [
        {
          "output_type": "stream",
          "name": "stdout",
          "text": [
            "[1, 3, 2, 4, 6, 5]\n",
            "[1, 2, 3, 4, 5, 6]\n"
          ]
        }
      ]
    },
    {
      "cell_type": "markdown",
      "source": [
        "Veri Tipleri: Tuple"
      ],
      "metadata": {
        "id": "SmFoA-lkFjzH"
      }
    },
    {
      "cell_type": "code",
      "source": [
        "tuple_sayi = (1,2,3,3,4,5,6)\n",
        "print(tuple_sayi[-2])\n",
        "print(tuple_sayi[1])\n",
        "print(tuple_sayi[2:])\n",
        "print(tuple_sayi.count(3))"
      ],
      "metadata": {
        "colab": {
          "base_uri": "https://localhost:8080/"
        },
        "id": "6z_VLYCyFouP",
        "outputId": "fe5b1bd0-c26f-4547-fa7c-4baa9c8b1474"
      },
      "execution_count": 36,
      "outputs": [
        {
          "output_type": "stream",
          "name": "stdout",
          "text": [
            "5\n",
            "2\n",
            "(3, 3, 4, 5, 6)\n",
            "2\n"
          ]
        }
      ]
    },
    {
      "cell_type": "markdown",
      "source": [
        "Veri Tipleri: Dictionary\n",
        "  *   anahtar - değer : key-value pair\n",
        "\n",
        "\n"
      ],
      "metadata": {
        "id": "JTB9MvkBHbji"
      }
    },
    {
      "cell_type": "code",
      "source": [
        "dictionary = {\"anahatar\": 10,\n",
        "              \"key\": \"ankara\"}\n",
        "dictionary"
      ],
      "metadata": {
        "colab": {
          "base_uri": "https://localhost:8080/"
        },
        "id": "PfLZVV6sHgHn",
        "outputId": "199f79e8-5353-4b4d-e8c5-e5ae93bcc873"
      },
      "execution_count": 40,
      "outputs": [
        {
          "output_type": "execute_result",
          "data": {
            "text/plain": [
              "{'anahatar': 10, 'key': 'ankara'}"
            ]
          },
          "metadata": {},
          "execution_count": 40
        }
      ]
    },
    {
      "cell_type": "code",
      "source": [
        "sehirler_plakalar = {\"istanbul\": 34,\n",
        "                     \"izmir\": 35,\n",
        "                     \"konya\": 42\n",
        "                     }\n",
        "\n",
        "sehirler_plakalar"
      ],
      "metadata": {
        "colab": {
          "base_uri": "https://localhost:8080/"
        },
        "id": "V9hHW32jIRl6",
        "outputId": "27b0c9fc-0bb6-46a8-ad35-e608e2b6b34e"
      },
      "execution_count": 42,
      "outputs": [
        {
          "output_type": "execute_result",
          "data": {
            "text/plain": [
              "{'istanbul': 34, 'izmir': 35, 'konya': 42}"
            ]
          },
          "metadata": {},
          "execution_count": 42
        }
      ]
    },
    {
      "cell_type": "code",
      "source": [
        "sehirler_plakalar.keys()"
      ],
      "metadata": {
        "colab": {
          "base_uri": "https://localhost:8080/"
        },
        "id": "aNhNg_uxIvPC",
        "outputId": "c823c3ed-655b-49b0-e440-44639f4b10df"
      },
      "execution_count": 44,
      "outputs": [
        {
          "output_type": "execute_result",
          "data": {
            "text/plain": [
              "dict_keys(['istanbul', 'izmir', 'konya'])"
            ]
          },
          "metadata": {},
          "execution_count": 44
        }
      ]
    },
    {
      "cell_type": "code",
      "source": [
        "sehirler_plakalar.values()"
      ],
      "metadata": {
        "colab": {
          "base_uri": "https://localhost:8080/"
        },
        "id": "VkBC5oLXI1QH",
        "outputId": "776f4e56-ac1c-4d1c-b115-fa2d45af3c3b"
      },
      "execution_count": 45,
      "outputs": [
        {
          "output_type": "execute_result",
          "data": {
            "text/plain": [
              "dict_values([34, 35, 42])"
            ]
          },
          "metadata": {},
          "execution_count": 45
        }
      ]
    },
    {
      "cell_type": "code",
      "source": [
        "sehirler_plakalar[\"izmir\"]"
      ],
      "metadata": {
        "colab": {
          "base_uri": "https://localhost:8080/"
        },
        "id": "WDBgul6pI3jX",
        "outputId": "ace0e036-72a5-49c2-8f49-bb9ca0be6bc0"
      },
      "execution_count": 46,
      "outputs": [
        {
          "output_type": "execute_result",
          "data": {
            "text/plain": [
              "35"
            ]
          },
          "metadata": {},
          "execution_count": 46
        }
      ]
    },
    {
      "cell_type": "markdown",
      "source": [
        "Veri Tipleri Dönüşümleri"
      ],
      "metadata": {
        "id": "YMBunDyzNWnT"
      }
    },
    {
      "cell_type": "code",
      "source": [
        "metin = \"16\"\n",
        "kesirlisayi = 10.5\n",
        "tamsayi = 10\n",
        "print(type(metin))\n",
        "print(type(kesirlisayi))\n",
        "print(type(tamsayi))"
      ],
      "metadata": {
        "colab": {
          "base_uri": "https://localhost:8080/"
        },
        "id": "76Jtm3UrJLlH",
        "outputId": "4d516af0-4b7e-4034-b140-c68a85cc8ea6"
      },
      "execution_count": 47,
      "outputs": [
        {
          "output_type": "stream",
          "name": "stdout",
          "text": [
            "<class 'str'>\n",
            "<class 'float'>\n",
            "<class 'int'>\n"
          ]
        }
      ]
    },
    {
      "cell_type": "code",
      "source": [
        "# str -> int\n",
        "metin_int = int(metin)\n",
        "print((metin_int))\n",
        "print(type(metin_int))"
      ],
      "metadata": {
        "colab": {
          "base_uri": "https://localhost:8080/"
        },
        "id": "RfSTKRaMNwQf",
        "outputId": "445e0d64-287c-4a6c-c6ab-1cd9fbd1741d"
      },
      "execution_count": 50,
      "outputs": [
        {
          "output_type": "stream",
          "name": "stdout",
          "text": [
            "16\n",
            "<class 'int'>\n"
          ]
        }
      ]
    },
    {
      "cell_type": "code",
      "source": [
        "# float -> int\n",
        "kesirlisayi_int = int(10.6)\n",
        "print(kesirlisayi_int)\n",
        "print(type(kesirlisayi_int))"
      ],
      "metadata": {
        "colab": {
          "base_uri": "https://localhost:8080/"
        },
        "id": "941_cIlwN93X",
        "outputId": "3dc6c70f-3549-4f34-f48e-3415db8b7e58"
      },
      "execution_count": 52,
      "outputs": [
        {
          "output_type": "stream",
          "name": "stdout",
          "text": [
            "10\n",
            "<class 'int'>\n"
          ]
        }
      ]
    },
    {
      "cell_type": "code",
      "source": [
        "# float -> str\n",
        "kesirlisayi_str = str(kesirlisayi)\n",
        "print(kesirlisayi_str)\n",
        "print(type(kesirlisayi_str))"
      ],
      "metadata": {
        "colab": {
          "base_uri": "https://localhost:8080/"
        },
        "id": "vefYtT42OLG3",
        "outputId": "aee27eee-2bb6-4310-b6ff-6d64b51c4291"
      },
      "execution_count": 54,
      "outputs": [
        {
          "output_type": "stream",
          "name": "stdout",
          "text": [
            "10.5\n",
            "<class 'str'>\n"
          ]
        }
      ]
    },
    {
      "cell_type": "code",
      "source": [
        "# int -> str\n",
        "tamsayi_str = str(tamsayi)\n",
        "print(tamsayi_str)\n",
        "print(type(tamsayi_str))"
      ],
      "metadata": {
        "colab": {
          "base_uri": "https://localhost:8080/"
        },
        "id": "mTPXPcDbOaRf",
        "outputId": "bad51194-3215-4817-d70f-1e4b384e2541"
      },
      "execution_count": 56,
      "outputs": [
        {
          "output_type": "stream",
          "name": "stdout",
          "text": [
            "10\n",
            "<class 'str'>\n"
          ]
        }
      ]
    },
    {
      "cell_type": "code",
      "source": [
        "# int -> float\n",
        "tamsayi_float = float(tamsayi)\n",
        "print(tamsayi_float)\n",
        "print(type(tamsayi_float))"
      ],
      "metadata": {
        "colab": {
          "base_uri": "https://localhost:8080/"
        },
        "id": "M6xrSdKEOh-X",
        "outputId": "e642502c-048b-46a0-b2f2-5619028c7ba4"
      },
      "execution_count": 58,
      "outputs": [
        {
          "output_type": "stream",
          "name": "stdout",
          "text": [
            "10.0\n",
            "<class 'float'>\n"
          ]
        }
      ]
    },
    {
      "cell_type": "markdown",
      "source": [
        "if-else"
      ],
      "metadata": {
        "id": "2McWs1C4QE-O"
      }
    },
    {
      "cell_type": "code",
      "source": [
        "# eüer sayi1 küçüktür sayi2 ise print(sayi1 küçüktür sayi2)\n",
        "sayi1 = 12\n",
        "sayi2 = 12\n",
        "\n",
        "if sayi1 < sayi2: # Eğer True(Doğru) ise if içerisine gir\n",
        "  print(f\"sayi1:{sayi1} küçüktür sayi2: {sayi2}\")\n",
        "elif sayi2 < sayi1: # Eğer True(Doğru) ise if içerisine gir\n",
        "  print(f\"sayi2:{sayi2} küçüktür sayi1: {sayi1}\")\n",
        "elif sayi1 == sayi2: # Eğer True(Doğru) ise if içerisine gir\n",
        "  print(f\"sayi1:{sayi1} sayi2: {sayi2} eşittir\")"
      ],
      "metadata": {
        "colab": {
          "base_uri": "https://localhost:8080/",
          "height": 87
        },
        "id": "GhybQ-d0OoNv",
        "outputId": "8305744b-f1f4-4294-af5e-f5bcb72e74a7"
      },
      "execution_count": 73,
      "outputs": [
        {
          "output_type": "stream",
          "name": "stdout",
          "text": [
            "sayi1:12 sayi2: 12 eşittir\n"
          ]
        },
        {
          "output_type": "execute_result",
          "data": {
            "text/plain": [
              "'\\n# eüer sayi1 küçüktür sayi2 ise print(sayi1 küçüktür sayi2)\\nsayi1 = 12\\nsayi2 = 12\\n\\nif sayi1 < sayi2: # Eğer True(Doğru) ise if içerisine gir\\n  print(f\"sayi1:{sayi1} küçüktür sayi2: {sayi2}\")\\nelif sayi2 < sayi1: # Eğer True(Doğru) ise if içerisine gir\\n  print(f\"sayi2:{sayi2} küçüktür sayi1: {sayi1}\")\\nelse: # Eğer True(Doğru) ise if içerisine gir\\n  print(f\"sayi1:{sayi1} sayi2: {sayi2} eşittir\")\\n'"
            ],
            "application/vnd.google.colaboratory.intrinsic+json": {
              "type": "string"
            }
          },
          "metadata": {},
          "execution_count": 73
        }
      ]
    },
    {
      "cell_type": "code",
      "source": [
        "sayi1 < sayi2"
      ],
      "metadata": {
        "colab": {
          "base_uri": "https://localhost:8080/"
        },
        "id": "vjGjithcQxlS",
        "outputId": "0bc904e5-5e2c-4a67-c3af-19be5af0201f"
      },
      "execution_count": 60,
      "outputs": [
        {
          "output_type": "execute_result",
          "data": {
            "text/plain": [
              "True"
            ]
          },
          "metadata": {},
          "execution_count": 60
        }
      ]
    },
    {
      "cell_type": "code",
      "source": [
        "# eüer sayi1 küçüktür sayi2 ise print(sayi1 küçüktür sayi2)\n",
        "sayi1 = 12\n",
        "sayi2 = 12\n",
        "\n",
        "if sayi1 < sayi2: # Eğer True(Doğru) ise if içerisine gir\n",
        "  print(f\"sayi1:{sayi1} küçüktür sayi2: {sayi2}\")\n",
        "elif sayi2 < sayi1: # Eğer True(Doğru) ise if içerisine gir\n",
        "  print(f\"sayi2:{sayi2} küçüktür sayi1: {sayi1}\")\n",
        "else: # Eğer True(Doğru) ise if içerisine gir\n",
        "  print(f\"sayi1:{sayi1} sayi2: {sayi2} eşittir\")"
      ],
      "metadata": {
        "colab": {
          "base_uri": "https://localhost:8080/"
        },
        "id": "raYd2o6RSEK6",
        "outputId": "cb0732a1-b7d4-47ce-bd2b-a9b15fcea40c"
      },
      "execution_count": 74,
      "outputs": [
        {
          "output_type": "stream",
          "name": "stdout",
          "text": [
            "sayi1:12 sayi2: 12 eşittir\n"
          ]
        }
      ]
    },
    {
      "cell_type": "code",
      "source": [
        "# problem: değer listenin içerisinde mi değil mi?\n",
        "liste = [1,2,3,4,5]\n",
        "deger = 10\n",
        "\n",
        "if deger in liste:\n",
        "  print(f\"{deger} listenin içerisinde\")\n",
        "else:\n",
        "  print(f\"{deger} listenin içerisinde değil\")"
      ],
      "metadata": {
        "colab": {
          "base_uri": "https://localhost:8080/"
        },
        "id": "yemHs9IVQyKf",
        "outputId": "6b3f5a25-b2e3-4ce5-b478-20ba95134a1f"
      },
      "execution_count": 78,
      "outputs": [
        {
          "output_type": "stream",
          "name": "stdout",
          "text": [
            "10 listenin içerisinde değil\n"
          ]
        }
      ]
    },
    {
      "cell_type": "code",
      "source": [
        "dictionary = {\"Türkiye\": \"Ankara\",\n",
        "              \"İngiltere\": \"Londra\",\n",
        "              \"Fransa\": \"Paris\",\n",
        "              \"Almanya\": \"Berlin\"\n",
        "              }\n",
        "\n",
        "keys = dictionary.keys()\n",
        "print(keys)\n",
        "print(type(keys))"
      ],
      "metadata": {
        "colab": {
          "base_uri": "https://localhost:8080/"
        },
        "id": "kacfENO5TDiw",
        "outputId": "b4f04685-3f61-48ff-d4fd-5d1fecff778e"
      },
      "execution_count": 80,
      "outputs": [
        {
          "output_type": "stream",
          "name": "stdout",
          "text": [
            "dict_keys(['Türkiye', 'İngiltere', 'Fransa', 'Almanya'])\n",
            "<class 'dict_keys'>\n"
          ]
        }
      ]
    },
    {
      "cell_type": "code",
      "source": [
        "#deger = \"Türkiye\"\n",
        "deger = \"İspanya\"\n",
        "\n",
        "if deger in keys:\n",
        "  print(f\"{deger} dictionary içerisinde\")\n",
        "else:\n",
        "  print(f\"{deger} dictionary içerisinde değil\")\n",
        "#"
      ],
      "metadata": {
        "colab": {
          "base_uri": "https://localhost:8080/"
        },
        "id": "CXsxvclWTlIM",
        "outputId": "c542ed3c-da46-4df1-81f2-da3a12b4a16e"
      },
      "execution_count": 83,
      "outputs": [
        {
          "output_type": "stream",
          "name": "stdout",
          "text": [
            "İspanya dictionary içerisinde değil\n"
          ]
        }
      ]
    },
    {
      "cell_type": "code",
      "source": [
        "# liste = haftanın günleri\n",
        "# eger pazartesi günü listenin içerisinde 2. indexde ise print(pazartesi günü listenin ikinci indeksinde)\n",
        "\n",
        "liste = [\"pazartesi\", \"sali\", \"carsamba\", \"persembe\", \"cuma\", \"cumartesi\", \"pazar\"]\n",
        "if \"pazartesi\" in liste[2]:\n",
        "  print(f\"pazartesi günü listenin {liste.index('pazartesi')}. indexinde\")\n",
        "else:\n",
        "  print(f\"pazartesi günü listenin ikinci indexinde değil\")"
      ],
      "metadata": {
        "colab": {
          "base_uri": "https://localhost:8080/"
        },
        "id": "C4ukFq1YT0be",
        "outputId": "229b62d2-5d90-4653-b35a-7da6bc7bb9a2"
      },
      "execution_count": 86,
      "outputs": [
        {
          "output_type": "stream",
          "name": "stdout",
          "text": [
            "pazartesi günü listenin ikinci indexinde değil\n"
          ]
        }
      ]
    },
    {
      "cell_type": "markdown",
      "source": [
        "for loop"
      ],
      "metadata": {
        "id": "_UCTvvdTVBlm"
      }
    },
    {
      "cell_type": "code",
      "source": [
        "# 1'den 10'a kadar saydır\n",
        "for i in range(1,11):\n",
        "  print(i)"
      ],
      "metadata": {
        "colab": {
          "base_uri": "https://localhost:8080/"
        },
        "id": "zDENVpufU_Q2",
        "outputId": "501b2f84-870e-496d-a608-f25f46c3f253"
      },
      "execution_count": 88,
      "outputs": [
        {
          "output_type": "stream",
          "name": "stdout",
          "text": [
            "1\n",
            "2\n",
            "3\n",
            "4\n",
            "5\n",
            "6\n",
            "7\n",
            "8\n",
            "9\n",
            "10\n"
          ]
        }
      ]
    },
    {
      "cell_type": "code",
      "source": [
        "for i in [1,2,3,4,5]:\n",
        "  print(i*2)"
      ],
      "metadata": {
        "colab": {
          "base_uri": "https://localhost:8080/"
        },
        "id": "_LfTHvDMVUYf",
        "outputId": "0c1df050-777a-440f-b4bb-8d499e68a914"
      },
      "execution_count": 89,
      "outputs": [
        {
          "output_type": "stream",
          "name": "stdout",
          "text": [
            "2\n",
            "4\n",
            "6\n",
            "8\n",
            "10\n"
          ]
        }
      ]
    },
    {
      "cell_type": "code",
      "source": [
        "for i in [\"pazartesi\", \"sali\", \"carsamba\", \"persembe\", \"cuma\", \"cumartesi\", \"pazar\"]: # string = karakter dizisi\n",
        "  print(i)"
      ],
      "metadata": {
        "colab": {
          "base_uri": "https://localhost:8080/"
        },
        "id": "PLZP1sisWRRu",
        "outputId": "89c0fe7b-109c-4de9-f3c6-03b0d31cec58"
      },
      "execution_count": 93,
      "outputs": [
        {
          "output_type": "stream",
          "name": "stdout",
          "text": [
            "pazartesi\n",
            "sali\n",
            "carsamba\n",
            "persembe\n",
            "cuma\n",
            "cumartesi\n",
            "pazar\n"
          ]
        }
      ]
    },
    {
      "cell_type": "code",
      "source": [
        "liste1 = [\"pazartesi\", \"sali\", \"carsamba\", \"persembe\", \"cuma\", \"cumartesi\", \"pazar\"]\n",
        "\n",
        "for i in liste1: # string = karakter dizisi\n",
        "  print(i)"
      ],
      "metadata": {
        "colab": {
          "base_uri": "https://localhost:8080/"
        },
        "id": "D57vx5MzW1zQ",
        "outputId": "4ebd7741-2602-478b-aaf8-e9cc738cc7f0"
      },
      "execution_count": 94,
      "outputs": [
        {
          "output_type": "stream",
          "name": "stdout",
          "text": [
            "pazartesi\n",
            "sali\n",
            "carsamba\n",
            "persembe\n",
            "cuma\n",
            "cumartesi\n",
            "pazar\n"
          ]
        }
      ]
    },
    {
      "cell_type": "code",
      "source": [
        "for i in \"Pazartesi Sali\":\n",
        "  print(i)"
      ],
      "metadata": {
        "colab": {
          "base_uri": "https://localhost:8080/"
        },
        "id": "iViXfKecXjge",
        "outputId": "bfc53a7a-7b90-47e4-9b0c-4fad36ff5a34"
      },
      "execution_count": 95,
      "outputs": [
        {
          "output_type": "stream",
          "name": "stdout",
          "text": [
            "P\n",
            "a\n",
            "z\n",
            "a\n",
            "r\n",
            "t\n",
            "e\n",
            "s\n",
            "i\n",
            " \n",
            "S\n",
            "a\n",
            "l\n",
            "i\n"
          ]
        }
      ]
    },
    {
      "cell_type": "code",
      "source": [
        "liste = [1,2,3,4,5,6,7,8,9]\n",
        "toplam = 0\n",
        "\n",
        "for i in liste:\n",
        "  toplam = toplam + i\n",
        "print(toplam)\n",
        "\n",
        "print(sum(liste))"
      ],
      "metadata": {
        "colab": {
          "base_uri": "https://localhost:8080/"
        },
        "id": "hBVyMEKGYzMF",
        "outputId": "ccc6004c-b8b3-4055-c90c-641ec1c8a414"
      },
      "execution_count": 102,
      "outputs": [
        {
          "output_type": "stream",
          "name": "stdout",
          "text": [
            "45\n",
            "45\n"
          ]
        }
      ]
    },
    {
      "cell_type": "code",
      "source": [
        "\"\"\"\n",
        "problem: NLP, elimizde str olarak cümle var,\n",
        "ornek: \"Bugün Python Dersimiz Var.\"\n",
        "amac: [\"bugün\",\"python\",\"dersimiz\",\"var.\"] şeklinde çıktı veren kod yazınız.\n",
        "\"\"\"\n",
        "\n",
        "cumle = \"Bugün Python Dersimiz Var.\"\n",
        "cumle_liste = cumle.split() # cumle.split(i) olsaydı i'nin sağı ve solu olarak ayıracaktı.\n",
        "print(cumle_liste)"
      ],
      "metadata": {
        "colab": {
          "base_uri": "https://localhost:8080/"
        },
        "id": "vJdlojFGZ1qL",
        "outputId": "87a9e433-6466-4b73-c0c2-a9406f02b523"
      },
      "execution_count": 104,
      "outputs": [
        {
          "output_type": "stream",
          "name": "stdout",
          "text": [
            "['Bugün', 'Python', 'Dersimiz', 'Var.']\n"
          ]
        }
      ]
    },
    {
      "cell_type": "code",
      "source": [
        "liste = []\n",
        "for i in cumle_liste:\n",
        "  kelime_kucuk_harf = i.lower()\n",
        "  print(kelime_kucuk_harf)\n",
        "  liste.append(kelime_kucuk_harf)\n",
        "print(liste)"
      ],
      "metadata": {
        "colab": {
          "base_uri": "https://localhost:8080/"
        },
        "id": "ojvHmS8ea4x_",
        "outputId": "2d3171a9-3cdc-41b1-a4d6-9bc582e01cab"
      },
      "execution_count": 107,
      "outputs": [
        {
          "output_type": "stream",
          "name": "stdout",
          "text": [
            "bugün\n",
            "python\n",
            "dersimiz\n",
            "var.\n",
            "['bugün', 'python', 'dersimiz', 'var.']\n"
          ]
        }
      ]
    },
    {
      "cell_type": "code",
      "source": [
        "\"\"\"\n",
        "problem: liste = [1,2,3,4,5,6]\n",
        "fonksiyon\n",
        "  girdi: liste\n",
        "  çıktı: listedeki çift elemanların toplamı\n",
        "\"\"\"\n",
        "\n",
        "liste = [1,2,3,4,5,6]\n",
        "\n",
        "def cift_eleman_toplami(liste):\n",
        "  toplam = 0\n",
        "  for i in liste:\n",
        "    if i % 2 == 0:\n",
        "      toplam = toplam + i\n",
        "  return toplam\n",
        "  print(toplam)\n",
        "\n",
        "cift_eleman_toplami(liste)"
      ],
      "metadata": {
        "colab": {
          "base_uri": "https://localhost:8080/"
        },
        "id": "d4zs7T2mcmwR",
        "outputId": "2060c03e-a904-407b-af05-d099d4c5310a"
      },
      "execution_count": 116,
      "outputs": [
        {
          "output_type": "execute_result",
          "data": {
            "text/plain": [
              "12"
            ]
          },
          "metadata": {},
          "execution_count": 116
        }
      ]
    },
    {
      "cell_type": "markdown",
      "source": [
        "while loop"
      ],
      "metadata": {
        "id": "OLxuidXnoF5T"
      }
    },
    {
      "cell_type": "code",
      "source": [
        "i = 0\n",
        "while(i < 4):\n",
        "  print(i)\n",
        "  i = i + 1"
      ],
      "metadata": {
        "colab": {
          "base_uri": "https://localhost:8080/"
        },
        "id": "BBJU5mXsdPKI",
        "outputId": "465c9afd-0174-4ca8-8a89-b3d6d2d3af23"
      },
      "execution_count": 117,
      "outputs": [
        {
          "output_type": "stream",
          "name": "stdout",
          "text": [
            "0\n",
            "1\n",
            "2\n",
            "3\n"
          ]
        }
      ]
    },
    {
      "cell_type": "code",
      "source": [
        "# while ile toplam\n",
        "liste = [1,2,3,4,5,6]\n",
        "toplam = 0\n",
        "i = 0\n",
        "while(i < len(liste)):\n",
        "  toplam = toplam + liste[i]\n",
        "  i = i + 1\n",
        "print(toplam)"
      ],
      "metadata": {
        "colab": {
          "base_uri": "https://localhost:8080/"
        },
        "id": "6oxXJzTpoyO0",
        "outputId": "0c995730-7d9d-4ec4-de64-7ae9deea8fe3"
      },
      "execution_count": 119,
      "outputs": [
        {
          "output_type": "stream",
          "name": "stdout",
          "text": [
            "21\n"
          ]
        }
      ]
    },
    {
      "cell_type": "markdown",
      "source": [
        "**Numpy**"
      ],
      "metadata": {
        "id": "am7WVZKOpjnJ"
      }
    },
    {
      "cell_type": "code",
      "source": [
        "import numpy as np"
      ],
      "metadata": {
        "id": "Z6JoWSJzo-la"
      },
      "execution_count": 120,
      "outputs": []
    },
    {
      "cell_type": "code",
      "source": [
        "#numpy array oluştur\n",
        "#liste = [1,2,3,4,5,6,7,8,9,10,11,12,13,14,15]\n",
        "dizi = np.array([1,2,3,4,5,6,7,8,9,10,11,12,13,14,15])\n",
        "print(dizi)\n",
        "print(type(dizi))"
      ],
      "metadata": {
        "colab": {
          "base_uri": "https://localhost:8080/"
        },
        "id": "x8wizh6lqgHS",
        "outputId": "2231d296-8c33-4ff3-8593-19d9c0d98bb7"
      },
      "execution_count": 123,
      "outputs": [
        {
          "output_type": "stream",
          "name": "stdout",
          "text": [
            "<class 'numpy.ndarray'>\n"
          ]
        }
      ]
    },
    {
      "cell_type": "code",
      "source": [
        "# array boyutu\n",
        "dizi.shape # (15,) -> 15x1'lik bir vektör"
      ],
      "metadata": {
        "colab": {
          "base_uri": "https://localhost:8080/"
        },
        "id": "p6iH91opqtOq",
        "outputId": "f18293b7-69b1-4e1b-9244-3c127e985c94"
      },
      "execution_count": 124,
      "outputs": [
        {
          "output_type": "execute_result",
          "data": {
            "text/plain": [
              "(15,)"
            ]
          },
          "metadata": {},
          "execution_count": 124
        }
      ]
    },
    {
      "cell_type": "code",
      "source": [
        "# 15x1 lik bir array'i 3x5 lik bir matrise çevir\n",
        "dizi2 = dizi.reshape(3,5)\n",
        "print(dizi2)\n",
        "print(dizi2.shape)"
      ],
      "metadata": {
        "colab": {
          "base_uri": "https://localhost:8080/"
        },
        "id": "_5E4k8xzrRGC",
        "outputId": "44ab09aa-2a48-4c5e-c0c6-10fd889a12e5"
      },
      "execution_count": 125,
      "outputs": [
        {
          "output_type": "stream",
          "name": "stdout",
          "text": [
            "[[ 1  2  3  4  5]\n",
            " [ 6  7  8  9 10]\n",
            " [11 12 13 14 15]]\n",
            "(3, 5)\n"
          ]
        }
      ]
    },
    {
      "cell_type": "code",
      "source": [
        "print(\"shape\", dizi2.shape)\n",
        "print(\"dimension\", dizi2.ndim)\n",
        "print(\"data type\", dizi2.dtype.name)\n",
        "print(\"size\", dizi2.size)\n",
        "print(\"type\", type(dizi2))"
      ],
      "metadata": {
        "colab": {
          "base_uri": "https://localhost:8080/"
        },
        "id": "rl6J-BTcrdfh",
        "outputId": "b2d82fa1-d10f-47f5-edfd-5d6b94ecf452"
      },
      "execution_count": 126,
      "outputs": [
        {
          "output_type": "stream",
          "name": "stdout",
          "text": [
            "shape (3, 5)\n",
            "dimension 2\n",
            "data type int64\n",
            "size 15\n",
            "type <class 'numpy.ndarray'>\n"
          ]
        }
      ]
    },
    {
      "cell_type": "code",
      "source": [
        "dizi2D = np.array([[1,2,3,4], [5,6,7,8], [9,8,7,5]])\n",
        "print(dizi2D)\n",
        "print(dizi2D.shape)"
      ],
      "metadata": {
        "colab": {
          "base_uri": "https://localhost:8080/"
        },
        "id": "zINKwPJcsCdd",
        "outputId": "2a131aa6-7fbc-45ec-811d-059d902ccd38"
      },
      "execution_count": 127,
      "outputs": [
        {
          "output_type": "stream",
          "name": "stdout",
          "text": [
            "[[1 2 3 4]\n",
            " [5 6 7 8]\n",
            " [9 8 7 5]]\n",
            "(3, 4)\n"
          ]
        }
      ]
    },
    {
      "cell_type": "code",
      "source": [
        "# sifirlardan oluşan bir array oluşturalim\n",
        "sıfır_dizi = np.zeros((3,4))\n",
        "sıfır_dizi"
      ],
      "metadata": {
        "colab": {
          "base_uri": "https://localhost:8080/"
        },
        "id": "H_E0RD5jsc8J",
        "outputId": "d4c401a6-1a85-4690-9f32-7fd2335a7120"
      },
      "execution_count": 129,
      "outputs": [
        {
          "output_type": "execute_result",
          "data": {
            "text/plain": [
              "array([[0., 0., 0., 0.],\n",
              "       [0., 0., 0., 0.],\n",
              "       [0., 0., 0., 0.]])"
            ]
          },
          "metadata": {},
          "execution_count": 129
        }
      ]
    },
    {
      "cell_type": "code",
      "source": [
        "# birlerden olusan array\n",
        "bir_dizi = np.ones((3,4))\n",
        "bir_dizi"
      ],
      "metadata": {
        "colab": {
          "base_uri": "https://localhost:8080/"
        },
        "id": "V9n_fTN5soFH",
        "outputId": "a313584c-5a70-4f68-f2bb-cb0659d1aff7"
      },
      "execution_count": 130,
      "outputs": [
        {
          "output_type": "execute_result",
          "data": {
            "text/plain": [
              "array([[1., 1., 1., 1.],\n",
              "       [1., 1., 1., 1.],\n",
              "       [1., 1., 1., 1.]])"
            ]
          },
          "metadata": {},
          "execution_count": 130
        }
      ]
    },
    {
      "cell_type": "code",
      "source": [
        "# bos bir array oluştur\n",
        "bos_dizi = np.empty((2,4))\n",
        "bos_dizi"
      ],
      "metadata": {
        "colab": {
          "base_uri": "https://localhost:8080/"
        },
        "id": "UdrZo_hRsuQB",
        "outputId": "5a60cb1e-1fa9-4a6e-feef-4ad013f70a8b"
      },
      "execution_count": 131,
      "outputs": [
        {
          "output_type": "execute_result",
          "data": {
            "text/plain": [
              "array([[4.76894457e-310, 0.00000000e+000, 0.00000000e+000,\n",
              "        0.00000000e+000],\n",
              "       [0.00000000e+000, 0.00000000e+000, 0.00000000e+000,\n",
              "        0.00000000e+000]])"
            ]
          },
          "metadata": {},
          "execution_count": 131
        }
      ]
    },
    {
      "cell_type": "code",
      "source": [
        "# arange(x,y,basamak) x den baslar y ye (y dahil degil) kadar gider basamak buyuklugunder artarak ilerler\n",
        "# 10, 50, basamak = 5\n",
        "dizi_aralik = np.arange(10,50,8)\n",
        "dizi_aralik"
      ],
      "metadata": {
        "colab": {
          "base_uri": "https://localhost:8080/"
        },
        "id": "z6ADJT4NtSEt",
        "outputId": "edb36a15-534b-47dc-9c5c-6bc96f7d689f"
      },
      "execution_count": 132,
      "outputs": [
        {
          "output_type": "execute_result",
          "data": {
            "text/plain": [
              "array([10, 18, 26, 34, 42])"
            ]
          },
          "metadata": {},
          "execution_count": 132
        }
      ]
    },
    {
      "cell_type": "code",
      "source": [
        "# linspace  (x,y,basamak) x ve y(dahil) araliginde basamak kadar sayiya boler\n",
        "dizi_bosluk = np.linspace(10,50,103)\n",
        "len(dizi_bosluk)"
      ],
      "metadata": {
        "colab": {
          "base_uri": "https://localhost:8080/"
        },
        "id": "V0ObS7m2vWVX",
        "outputId": "6fd82efb-ecca-4dc5-c79c-53ef4980d01e"
      },
      "execution_count": 133,
      "outputs": [
        {
          "output_type": "execute_result",
          "data": {
            "text/plain": [
              "103"
            ]
          },
          "metadata": {},
          "execution_count": 133
        }
      ]
    },
    {
      "cell_type": "markdown",
      "source": [
        "**Numpy Temel Operasyonlar**"
      ],
      "metadata": {
        "id": "pKcY5Cth0ae8"
      }
    },
    {
      "cell_type": "code",
      "source": [
        "import numpy as np"
      ],
      "metadata": {
        "id": "cXuOQsFr0aRV"
      },
      "execution_count": 134,
      "outputs": []
    },
    {
      "cell_type": "code",
      "source": [
        "a = np.array([1,2,3])\n",
        "b = np.array([4,5,6])"
      ],
      "metadata": {
        "id": "6kvY6jxx0gtj"
      },
      "execution_count": 136,
      "outputs": []
    },
    {
      "cell_type": "code",
      "source": [
        "print(\"Toplama:\",a+b)\n",
        "print(\"Çıkarma:\",a-b)\n",
        "print(\"Kendi ile Çarpma:\",a**2)"
      ],
      "metadata": {
        "colab": {
          "base_uri": "https://localhost:8080/"
        },
        "id": "TRlNbEWf0jlD",
        "outputId": "8952853a-8a4a-483a-f4b0-cb69de6a98aa"
      },
      "execution_count": 138,
      "outputs": [
        {
          "output_type": "stream",
          "name": "stdout",
          "text": [
            "Toplama: [5 7 9]\n",
            "Çıkarma: [-3 -3 -3]\n",
            "Kendi ile Çarpma: [1 4 9]\n"
          ]
        }
      ]
    },
    {
      "cell_type": "code",
      "source": [
        "#filtreleme\n",
        "a = np.array([1,2,3])\n",
        "filtre = a < 2 # a array'nin içerisinde bulunan 2 den küçük degerleri göster\n",
        "filtre"
      ],
      "metadata": {
        "colab": {
          "base_uri": "https://localhost:8080/"
        },
        "id": "c6j6kqFO1HLQ",
        "outputId": "2702e1ba-18b9-4c05-8117-d6fb30a59364"
      },
      "execution_count": 139,
      "outputs": [
        {
          "output_type": "execute_result",
          "data": {
            "text/plain": [
              "array([ True, False, False])"
            ]
          },
          "metadata": {},
          "execution_count": 139
        }
      ]
    },
    {
      "cell_type": "code",
      "source": [
        "# matris çarpımı\n",
        "a = np.array([1,2,3])\n",
        "b = np.array([4,5,6])\n",
        "a.dot(b)"
      ],
      "metadata": {
        "colab": {
          "base_uri": "https://localhost:8080/"
        },
        "id": "TRnpby1c1fPi",
        "outputId": "a765e6ea-44f2-45b4-f8d0-23e5a2c8a010"
      },
      "execution_count": 140,
      "outputs": [
        {
          "output_type": "execute_result",
          "data": {
            "text/plain": [
              "32"
            ]
          },
          "metadata": {},
          "execution_count": 140
        }
      ]
    },
    {
      "cell_type": "code",
      "source": [
        "a = np.array([[1,2,3],[4,5,6]]) #2x3\n",
        "b = np.array([[4,5,6],[1,2,3]]) #2x3 -> T -> 3x2\n",
        "a.dot(b.T)"
      ],
      "metadata": {
        "colab": {
          "base_uri": "https://localhost:8080/"
        },
        "id": "8xcaFa5g1x13",
        "outputId": "d89db78d-1e00-4a3d-b403-6364eeac27ca"
      },
      "execution_count": 143,
      "outputs": [
        {
          "output_type": "execute_result",
          "data": {
            "text/plain": [
              "array([[32, 14],\n",
              "       [77, 32]])"
            ]
          },
          "metadata": {},
          "execution_count": 143
        }
      ]
    },
    {
      "cell_type": "code",
      "source": [
        "a = np.array([[1,2,3],\n",
        "              [4,5,6]]) #2x3\n",
        "\n",
        "print(a.sum())\n",
        "print(np.sum(a))\n",
        "print(a.max())\n",
        "print(np.max(a))\n",
        "print(a.min())\n",
        "print(np.min(a))\n",
        "print(a.mean())\n",
        "print(np.mean(a))\n",
        "\n",
        "\n",
        "\n",
        "print(a.sum(axis=0)) # sütun bazlı toplama\n",
        "print(a.sum(axis=1)) # satır bazlı toplama"
      ],
      "metadata": {
        "colab": {
          "base_uri": "https://localhost:8080/"
        },
        "id": "kDoiXKZo2TBz",
        "outputId": "dff0003e-2ca8-4cbb-920c-6ec8bbe24f66"
      },
      "execution_count": 149,
      "outputs": [
        {
          "output_type": "stream",
          "name": "stdout",
          "text": [
            "21\n",
            "21\n",
            "6\n",
            "6\n",
            "1\n",
            "1\n",
            "3.5\n",
            "3.5\n",
            "[5 7 9]\n",
            "[ 6 15]\n"
          ]
        }
      ]
    },
    {
      "cell_type": "code",
      "source": [
        "# karekök\n",
        "print(np.sqrt(a))\n",
        "\n",
        "# karesi\n",
        "print(np.square(a))\n",
        "print(a**2)"
      ],
      "metadata": {
        "colab": {
          "base_uri": "https://localhost:8080/"
        },
        "id": "XkanPBrq3KUP",
        "outputId": "6eb1ca1f-48c9-4e0f-9535-4019c99d4b0a"
      },
      "execution_count": 152,
      "outputs": [
        {
          "output_type": "stream",
          "name": "stdout",
          "text": [
            "[[1.         1.41421356 1.73205081]\n",
            " [2.         2.23606798 2.44948974]]\n",
            "[[ 1  4  9]\n",
            " [16 25 36]]\n",
            "[[ 1  4  9]\n",
            " [16 25 36]]\n"
          ]
        }
      ]
    },
    {
      "cell_type": "code",
      "source": [
        "# rastgele sayi üretme\n",
        "rasgele_dizi1 = np.random.random((3,3)) # normal dağılıma göre 0-1 arası rasgele dağılım\n",
        "rasgele_dizi1"
      ],
      "metadata": {
        "colab": {
          "base_uri": "https://localhost:8080/"
        },
        "id": "QdIEi9RN3c5d",
        "outputId": "3e648f16-0a43-445a-cdd6-afd3b5a2e812"
      },
      "execution_count": 153,
      "outputs": [
        {
          "output_type": "execute_result",
          "data": {
            "text/plain": [
              "array([[0.05635841, 0.9632226 , 0.49736303],\n",
              "       [0.469522  , 0.81243623, 0.95304434],\n",
              "       [0.14864481, 0.43214976, 0.6965796 ]])"
            ]
          },
          "metadata": {},
          "execution_count": 153
        }
      ]
    },
    {
      "cell_type": "code",
      "source": [
        "rastgele_dizi = np.random.normal(0 ,1 , 5) # normal dagilima 0 ortalamali 1 std, 5 adet deger uret\n",
        "rastgele_dizi"
      ],
      "metadata": {
        "colab": {
          "base_uri": "https://localhost:8080/"
        },
        "id": "2Oy5bfcn3vT1",
        "outputId": "8442f9b9-1f0c-45d1-deda-68ff60f5375b"
      },
      "execution_count": 154,
      "outputs": [
        {
          "output_type": "execute_result",
          "data": {
            "text/plain": [
              "array([-0.76070884, -0.4700101 ,  0.87732854, -0.38929505,  1.76109493])"
            ]
          },
          "metadata": {},
          "execution_count": 154
        }
      ]
    },
    {
      "cell_type": "markdown",
      "source": [
        "**indeksleme ve slicing**"
      ],
      "metadata": {
        "id": "Ofp2kyI25kaV"
      }
    },
    {
      "cell_type": "code",
      "source": [
        "import numpy as np"
      ],
      "metadata": {
        "id": "Aldehk3Z5GGL"
      },
      "execution_count": 156,
      "outputs": []
    },
    {
      "cell_type": "code",
      "source": [
        "dizi = np.array([1,2,3,4,5,6,7])\n",
        "dizi[3]"
      ],
      "metadata": {
        "colab": {
          "base_uri": "https://localhost:8080/"
        },
        "id": "e-N09wki5rQs",
        "outputId": "91ac2d7d-6ff1-4fbc-8eb7-e84427047488"
      },
      "execution_count": 159,
      "outputs": [
        {
          "output_type": "execute_result",
          "data": {
            "text/plain": [
              "4"
            ]
          },
          "metadata": {},
          "execution_count": 159
        }
      ]
    },
    {
      "cell_type": "code",
      "source": [
        "dizi[0:4]"
      ],
      "metadata": {
        "colab": {
          "base_uri": "https://localhost:8080/"
        },
        "id": "rvZSngxL52ML",
        "outputId": "f7e6470a-66f1-4621-b806-a29cbdd68f78"
      },
      "execution_count": 161,
      "outputs": [
        {
          "output_type": "execute_result",
          "data": {
            "text/plain": [
              "array([1, 2, 3, 4])"
            ]
          },
          "metadata": {},
          "execution_count": 161
        }
      ]
    },
    {
      "cell_type": "code",
      "source": [
        "dizi[:4]"
      ],
      "metadata": {
        "colab": {
          "base_uri": "https://localhost:8080/"
        },
        "id": "jKig_Fn36Cg7",
        "outputId": "1fd46af3-ef64-45c5-8d17-16ad1cdfe639"
      },
      "execution_count": 162,
      "outputs": [
        {
          "output_type": "execute_result",
          "data": {
            "text/plain": [
              "array([1, 2, 3, 4])"
            ]
          },
          "metadata": {},
          "execution_count": 162
        }
      ]
    },
    {
      "cell_type": "code",
      "source": [
        "dizi[::-1] # tersine çevir"
      ],
      "metadata": {
        "colab": {
          "base_uri": "https://localhost:8080/"
        },
        "id": "RQF9l2jj6Fjv",
        "outputId": "438eab07-484b-4f2b-f08e-18e0b0714159"
      },
      "execution_count": 165,
      "outputs": [
        {
          "output_type": "execute_result",
          "data": {
            "text/plain": [
              "array([7, 6, 5, 4, 3, 2, 1])"
            ]
          },
          "metadata": {},
          "execution_count": 165
        }
      ]
    },
    {
      "cell_type": "code",
      "source": [
        "dizi2D = np.array([[1,2,3,4,5], [6,7,8,9,10]])\n",
        "dizi2D"
      ],
      "metadata": {
        "colab": {
          "base_uri": "https://localhost:8080/"
        },
        "id": "q4YphGrT6Jkz",
        "outputId": "9d71838a-9d13-4b51-dfb7-c2afbaf76231"
      },
      "execution_count": 166,
      "outputs": [
        {
          "output_type": "execute_result",
          "data": {
            "text/plain": [
              "array([[ 1,  2,  3,  4,  5],\n",
              "       [ 6,  7,  8,  9, 10]])"
            ]
          },
          "metadata": {},
          "execution_count": 166
        }
      ]
    },
    {
      "cell_type": "code",
      "source": [
        "dizi2D[1,1] # 2.satır 2.sütun"
      ],
      "metadata": {
        "colab": {
          "base_uri": "https://localhost:8080/"
        },
        "id": "zMMHntoz6e7t",
        "outputId": "0ccf8d1c-df15-4902-f564-1e30be6f4535"
      },
      "execution_count": 169,
      "outputs": [
        {
          "output_type": "execute_result",
          "data": {
            "text/plain": [
              "7"
            ]
          },
          "metadata": {},
          "execution_count": 169
        }
      ]
    },
    {
      "cell_type": "code",
      "source": [
        "dizi2D[0,:]"
      ],
      "metadata": {
        "colab": {
          "base_uri": "https://localhost:8080/"
        },
        "id": "xPeIDzgo6l-r",
        "outputId": "55349ab1-2b7d-4793-cabb-ba80ed7d640a"
      },
      "execution_count": 174,
      "outputs": [
        {
          "output_type": "execute_result",
          "data": {
            "text/plain": [
              "array([1, 2, 3, 4, 5])"
            ]
          },
          "metadata": {},
          "execution_count": 174
        }
      ]
    },
    {
      "cell_type": "code",
      "source": [
        "dizi2D[:,2]"
      ],
      "metadata": {
        "colab": {
          "base_uri": "https://localhost:8080/"
        },
        "id": "C0eOGKHp7CSM",
        "outputId": "be2e0644-93c7-4389-c6fe-eff5e2230198"
      },
      "execution_count": 176,
      "outputs": [
        {
          "output_type": "execute_result",
          "data": {
            "text/plain": [
              "array([3, 8])"
            ]
          },
          "metadata": {},
          "execution_count": 176
        }
      ]
    },
    {
      "cell_type": "code",
      "source": [
        "dizi2D[:,2:4]"
      ],
      "metadata": {
        "colab": {
          "base_uri": "https://localhost:8080/"
        },
        "id": "GaRBswqY7IkE",
        "outputId": "0fb3e52c-0c96-4c5a-e10b-73d1450e2ee7"
      },
      "execution_count": 180,
      "outputs": [
        {
          "output_type": "execute_result",
          "data": {
            "text/plain": [
              "array([[3, 4],\n",
              "       [8, 9]])"
            ]
          },
          "metadata": {},
          "execution_count": 180
        }
      ]
    },
    {
      "cell_type": "code",
      "source": [
        "dizi2D[-1,2:4]"
      ],
      "metadata": {
        "colab": {
          "base_uri": "https://localhost:8080/"
        },
        "id": "Thw4B8C67XUU",
        "outputId": "312bd126-e9c0-42ca-fb9a-a54303e203a8"
      },
      "execution_count": 181,
      "outputs": [
        {
          "output_type": "execute_result",
          "data": {
            "text/plain": [
              "array([8, 9])"
            ]
          },
          "metadata": {},
          "execution_count": 181
        }
      ]
    },
    {
      "cell_type": "code",
      "source": [
        "dizi2D[[0,1], [1,3]]"
      ],
      "metadata": {
        "colab": {
          "base_uri": "https://localhost:8080/"
        },
        "id": "AkmIJZCI79w7",
        "outputId": "5c8bb390-28a6-4aa9-d900-29a9750cf57f"
      },
      "execution_count": 182,
      "outputs": [
        {
          "output_type": "execute_result",
          "data": {
            "text/plain": [
              "array([2, 9])"
            ]
          },
          "metadata": {},
          "execution_count": 182
        }
      ]
    },
    {
      "cell_type": "markdown",
      "source": [
        "**shape manipulation**"
      ],
      "metadata": {
        "id": "qcGk8sJd8m20"
      }
    },
    {
      "cell_type": "code",
      "source": [
        "import numpy as np"
      ],
      "metadata": {
        "id": "uo5gQ6po8mqy"
      },
      "execution_count": 183,
      "outputs": []
    },
    {
      "cell_type": "code",
      "source": [
        "dizi2D = np.array([[1,2,3],[4,5,6],[7,8,9]])\n",
        "dizi2D"
      ],
      "metadata": {
        "colab": {
          "base_uri": "https://localhost:8080/"
        },
        "id": "EU6-lZJJ9M-k",
        "outputId": "04c5a80d-6446-4aa4-ae37-062d51a89fb4"
      },
      "execution_count": 185,
      "outputs": [
        {
          "output_type": "execute_result",
          "data": {
            "text/plain": [
              "array([[1, 2, 3],\n",
              "       [4, 5, 6],\n",
              "       [7, 8, 9]])"
            ]
          },
          "metadata": {},
          "execution_count": 185
        }
      ]
    },
    {
      "cell_type": "code",
      "source": [
        "dizi2D_shape = dizi2D.shape\n",
        "dizi2D_shape"
      ],
      "metadata": {
        "colab": {
          "base_uri": "https://localhost:8080/"
        },
        "id": "OjRAM2S49gGx",
        "outputId": "f9d2682b-6e2e-4a77-bd86-7ee26f07ebda"
      },
      "execution_count": 186,
      "outputs": [
        {
          "output_type": "execute_result",
          "data": {
            "text/plain": [
              "(3, 3)"
            ]
          },
          "metadata": {},
          "execution_count": 186
        }
      ]
    },
    {
      "cell_type": "code",
      "source": [
        "dizi2D.reshape(dizi2D_shape[0]*dizi2D_shape[1],1)"
      ],
      "metadata": {
        "colab": {
          "base_uri": "https://localhost:8080/"
        },
        "id": "4q2Cx3sZ9sMv",
        "outputId": "e629f181-61af-4eb3-bbee-7650013cb76d"
      },
      "execution_count": 187,
      "outputs": [
        {
          "output_type": "execute_result",
          "data": {
            "text/plain": [
              "array([[1],\n",
              "       [2],\n",
              "       [3],\n",
              "       [4],\n",
              "       [5],\n",
              "       [6],\n",
              "       [7],\n",
              "       [8],\n",
              "       [9]])"
            ]
          },
          "metadata": {},
          "execution_count": 187
        }
      ]
    },
    {
      "cell_type": "code",
      "source": [
        "dizi2D.reshape(dizi2D_shape[0]*dizi2D_shape[1],-1)"
      ],
      "metadata": {
        "colab": {
          "base_uri": "https://localhost:8080/"
        },
        "id": "LVqGMxwc921e",
        "outputId": "f0a815fd-4651-44e6-a458-582d1b78b6b8"
      },
      "execution_count": 188,
      "outputs": [
        {
          "output_type": "execute_result",
          "data": {
            "text/plain": [
              "array([[1],\n",
              "       [2],\n",
              "       [3],\n",
              "       [4],\n",
              "       [5],\n",
              "       [6],\n",
              "       [7],\n",
              "       [8],\n",
              "       [9]])"
            ]
          },
          "metadata": {},
          "execution_count": 188
        }
      ]
    },
    {
      "cell_type": "code",
      "source": [
        "dizi2D.ravel() # tek boyutlu hale getirir, tensorflow -> flattengg"
      ],
      "metadata": {
        "colab": {
          "base_uri": "https://localhost:8080/"
        },
        "id": "Z9zDtTog96DX",
        "outputId": "4f88708b-9877-47bb-d9d4-67721231cfb9"
      },
      "execution_count": 189,
      "outputs": [
        {
          "output_type": "execute_result",
          "data": {
            "text/plain": [
              "array([1, 2, 3, 4, 5, 6, 7, 8, 9])"
            ]
          },
          "metadata": {},
          "execution_count": 189
        }
      ]
    },
    {
      "cell_type": "code",
      "source": [
        "dizi2D.T"
      ],
      "metadata": {
        "colab": {
          "base_uri": "https://localhost:8080/"
        },
        "id": "ZTVjnJlp-RRA",
        "outputId": "53c3da60-8ed9-4daf-a1ba-631e06fb6702"
      },
      "execution_count": 190,
      "outputs": [
        {
          "output_type": "execute_result",
          "data": {
            "text/plain": [
              "array([[1, 4, 7],\n",
              "       [2, 5, 8],\n",
              "       [3, 6, 9]])"
            ]
          },
          "metadata": {},
          "execution_count": 190
        }
      ]
    },
    {
      "cell_type": "code",
      "source": [
        "print(dizi2D.reshape(dizi2D_shape[0]*dizi2D_shape[1],-1))"
      ],
      "metadata": {
        "colab": {
          "base_uri": "https://localhost:8080/"
        },
        "id": "mBh_VczV--31",
        "outputId": "ac18826a-f1c2-4c31-b242-290671bd675c"
      },
      "execution_count": 191,
      "outputs": [
        {
          "output_type": "stream",
          "name": "stdout",
          "text": [
            "[[1]\n",
            " [2]\n",
            " [3]\n",
            " [4]\n",
            " [5]\n",
            " [6]\n",
            " [7]\n",
            " [8]\n",
            " [9]]\n"
          ]
        }
      ]
    },
    {
      "cell_type": "code",
      "source": [
        "\"\"\"\n",
        "1) A array = 2 boyutlu bir tane array -> (3,5)\n",
        "2) B array = 1 boyutlu bir tane array -> (15,)\n",
        "3) B array'ini (3,5) olacak sekilde reshape yapalim\n",
        "4) C = A + B\n",
        "5) D=linspace ve E=arange ile (3,5) lik matrisler olusturalim.\n",
        "6) F = D + E\n",
        "7) C'nin ve F'nin her bir elemanini for dongusu ile eleman eleman carpip G = (15,1) boyutunda elde edelim.\n",
        "8) C ve F'yi (15,1) sonrasında C'nin ilk elemani ile F'nin son elemani toplayarak ilerleyelim.\n",
        "9) toplam degerleri eger 1 den buyukse G1 isimli bir listeye atalim, else ise G2 isimli listeye atalim\n",
        "\"\"\"\n",
        "import numpy as np\n",
        "# 2 boyutlu bir dizi oluşturma (3x5)\n",
        "A = np.random.rand(3, 5)  # 0 ile 1 arasında rastgele sayılarla dolu 3x5'lik bir dizi\n",
        "# 1 boyutlu bir dizi oluşturma (15 elemanlı)\n",
        "B = np.arange(15)  # 0'dan 14'e kadar sayıları içeren bir dizi\n",
        "# B dizisini 3x5 boyutunda yeniden şekillendirme\n",
        "B = B.reshape(3, 5)\n",
        "# A ve B dizilerini toplama\n",
        "C = A + B\n",
        "print(\"C: \",C)\n",
        "D=np.linspace(10,50,15).reshape(3,5)\n",
        "print(\"D: \",D)\n",
        "E=np.arange(10,160,10).reshape(3,5)\n",
        "print(\"E: \",E)\n",
        "F=D+E\n",
        "print(\"F: \",F)\n",
        "G = []\n",
        "for i in range(C.shape[0]):  # 3\n",
        "    for j in range(C.shape[1]):  # 5\n",
        "        G.append(C[i, j] * F[i, j])\n",
        "print(\"G shape: \",np.array(G).shape)"
      ],
      "metadata": {
        "colab": {
          "base_uri": "https://localhost:8080/"
        },
        "id": "K5-BWZMyDQ4l",
        "outputId": "5f525334-83a4-4bb3-d01c-180f22458507"
      },
      "execution_count": 198,
      "outputs": [
        {
          "output_type": "stream",
          "name": "stdout",
          "text": [
            "C:  [[ 0.1977079   1.23930508  2.108394    3.62627513  4.80284366]\n",
            " [ 5.09384388  6.4996451   7.78264573  8.76105391  9.63255346]\n",
            " [10.73587382 11.37222279 12.70511079 13.4637681  14.51466128]]\n",
            "D:  [[10.         12.85714286 15.71428571 18.57142857 21.42857143]\n",
            " [24.28571429 27.14285714 30.         32.85714286 35.71428571]\n",
            " [38.57142857 41.42857143 44.28571429 47.14285714 50.        ]]\n",
            "E:  [[ 10  20  30  40  50]\n",
            " [ 60  70  80  90 100]\n",
            " [110 120 130 140 150]]\n",
            "F:  [[ 20.          32.85714286  45.71428571  58.57142857  71.42857143]\n",
            " [ 84.28571429  97.14285714 110.         122.85714286 135.71428571]\n",
            " [148.57142857 161.42857143 174.28571429 187.14285714 200.        ]]\n",
            "G shape:  (15,)\n"
          ]
        }
      ]
    },
    {
      "cell_type": "code",
      "source": [
        "\"\"\"\n",
        "[1,2,3]\n",
        "\n",
        "[4,5,6]\n",
        "7,7,7\n",
        "\"\"\"\n",
        "C = C.reshape(15,1)\n",
        "F = F.reshape(15,1)\n",
        "F =F[::-1]\n",
        "G1 = []\n",
        "G2 = []\n",
        "for i in range(len(C)):\n",
        "    toplam = C[i] + F[i]\n",
        "    if toplam > 1:\n",
        "        G1.append(toplam)\n",
        "    else:\n",
        "        G2.append(toplam)\n",
        "print(G1,G2)"
      ],
      "metadata": {
        "colab": {
          "base_uri": "https://localhost:8080/"
        },
        "id": "Q2KpPKljN9vQ",
        "outputId": "ba71d16f-50db-4706-85ea-3dba69908c70"
      },
      "execution_count": 199,
      "outputs": [
        {
          "output_type": "stream",
          "name": "stdout",
          "text": [
            "[array([200.1977079]), array([188.38216222]), array([176.39410828]), array([165.05484656]), array([153.37427223]), array([140.80812959]), array([129.35678796]), array([117.78264573]), array([105.90391105]), array([93.91826775]), array([82.16444525]), array([69.94365136]), array([58.41939651]), array([46.32091096]), array([34.51466128])] []\n"
          ]
        }
      ]
    },
    {
      "cell_type": "code",
      "source": [
        "C_flat = C.reshape(-1, 1)  # -1 otomatik olarak 15 elemanı kullanır\n",
        "F_flat = F.reshape(-1, 1)\n",
        "\n",
        "# G1 ve G2 listelerini tanımlama\n",
        "G1 = []\n",
        "G2 = []\n",
        "\n",
        "# C'nin ilk elemanı ve F'nin son elemanı toplama işlemi ile ilerleme\n",
        "for i in range(len(C_flat)):  # C_flat'in uzunluğunu kullanarak döngüyü oluştur\n",
        "    toplam = C_flat[i, 0] + F_flat[len(F_flat) - 1 - i, 0]  # len kullanarak sondan eleman al\n",
        "    if toplam > 1:\n",
        "        G1.append(toplam)\n",
        "    else:\n",
        "        G2.append(toplam)\n",
        "# Sonuçları yazdırma\n",
        "print(\"G1 (Toplam > 1 olanlar):\", G1)\n",
        "print(\"G2 (Toplam <= 1 olanlar):\", G2)"
      ],
      "metadata": {
        "colab": {
          "base_uri": "https://localhost:8080/"
        },
        "id": "ZQPvJx8SN-x2",
        "outputId": "2a1d3e3f-9668-401e-f32a-a5bcd2ff269d"
      },
      "execution_count": 200,
      "outputs": [
        {
          "output_type": "stream",
          "name": "stdout",
          "text": [
            "G1 (Toplam > 1 olanlar): [20.19770790166806, 34.09644793346444, 47.82267971109872, 62.19770369982412, 76.23141508692137, 89.37955816085537, 103.64250224466797, 117.78264572513403, 131.6181967661664, 145.34683917458733, 159.30730239428186, 172.80079421665386, 186.99082508054977, 200.6066252416273, 214.5146612760255]\n",
            "G2 (Toplam <= 1 olanlar): []\n"
          ]
        }
      ]
    }
  ]
}